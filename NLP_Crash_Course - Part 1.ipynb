{
 "cells": [
  {
   "cell_type": "markdown",
   "metadata": {},
   "source": [
    "# NLP Crash Course - Part 1: Data Preparation\n",
    "Prepared by: Nickolas Freeman, PhD\n",
    "\n",
    "In this notebook, we will begin looking at how we can use Python for Natural Language Processing (NLP). From https://en.wikipedia.org/wiki/Natural_language_processing:\n",
    "> Natural language processing (NLP) is a subfield of linguistics, computer science, information engineering, and artificial intelligence concerned with the interactions between computers and human (natural) languages, in particular how to program computers to process and analyze large amounts of natural language data.\n",
    "\n",
    "The following code block imports some libraries that we will be using."
   ]
  },
  {
   "cell_type": "code",
   "execution_count": 1,
   "metadata": {},
   "outputs": [],
   "source": [
    "# Libraries that are part of the Python standard library\n",
    "import gzip\n",
    "import itertools\n",
    "import json\n",
    "import pathlib\n",
    "import string\n",
    "import time\n",
    "\n",
    "# Third-party packages\n",
    "import matplotlib.pyplot as plt\n",
    "import nltk\n",
    "import numpy as np\n",
    "import pandas as pd\n",
    "import seaborn as sns"
   ]
  },
  {
   "cell_type": "markdown",
   "metadata": {},
   "source": [
    "As with almost all analytical efforts, the quality of a model or application will be largely dependent on the quality of the data used for the analysis. Thus, the focus of this notebook will be on demonstrating how we can use the **Natural Language Toolkit (NLTK)** to prepare a *corpus* of text data for analysis. From https://www.kdnuggets.com/2017/11/building-wikipedia-text-corpus-nlp.html:\n",
    "> One of the first things required for natural language processing (NLP) tasks is a corpus. In linguistics and NLP, corpus (literally Latin for body) refers to a collection of texts.\n",
    "\n",
    "We will be using the `nltk` library for our data preparation. If you have not worked with `nltk` before, you will need to run the `nltk.download()` function to download additional resources used by the library. You can do this using the following code block by setting the value of the `run_nltk_downloader` variable to `True`."
   ]
  },
  {
   "cell_type": "code",
   "execution_count": 2,
   "metadata": {},
   "outputs": [],
   "source": [
    "run_nltk_downloader = False\n",
    "\n",
    "if run_nltk_downloader:\n",
    "    nltk.download()"
   ]
  },
  {
   "cell_type": "markdown",
   "metadata": {},
   "source": [
    "The data we will be using was harvested from the twitter API (see https://developer.twitter.com/en/docs for more information). The data is stored in JSON (JavaScript Object Notation) format. The JSON file is compressed using GZIP compression (see https://en.wikipedia.org/wiki/Gzip for more information) to save disk space. The following code block demonstrates how to read the data."
   ]
  },
  {
   "cell_type": "code",
   "execution_count": 3,
   "metadata": {},
   "outputs": [
    {
     "name": "stdout",
     "output_type": "stream",
     "text": [
      "The data includes 434578 observations.\n"
     ]
    }
   ],
   "source": [
    "# create a pathlib.Path object for the data\n",
    "raw_data_filepath = pathlib.Path('relevant_data.json.gz')\n",
    "\n",
    "# open the data filepath\n",
    "with gzip.GzipFile(raw_data_filepath, 'r') as fp:\n",
    "    \n",
    "    # read the bytes from the datafile\n",
    "    json_bytes = fp.read()\n",
    "    \n",
    "    # decode the bytes to utf-8\n",
    "    json_str = json_bytes.decode('utf-8')\n",
    "    \n",
    "    # load the decoded bytes as JSON\n",
    "    tweet_data = json.loads(json_str)\n",
    "    \n",
    "print(f'The data includes {len(tweet_data)} observations.')"
   ]
  },
  {
   "cell_type": "markdown",
   "metadata": {},
   "source": [
    "The data is stored as a list of lists. Each sublist has six items:\n",
    "1. the datetime for the tweet,\n",
    "2. the username associated with the tweet,\n",
    "3. the user associated with the tweet,\n",
    "4. the location associated with the tweet,\n",
    "5. the language associated with the tweet, and\n",
    "6. the tweet text.\n",
    "\n",
    "The following code block prints the first entry as an example."
   ]
  },
  {
   "cell_type": "code",
   "execution_count": 4,
   "metadata": {},
   "outputs": [
    {
     "name": "stdout",
     "output_type": "stream",
     "text": [
      "['Sat Mar 28 08:21:12 +0000 2020', 'DianeB67082104', 'Diane B', 'Yorkshire and The Humber', 'en', '@redviking_82 Yea we are fine staying home as much as we can Hubby has to go to work (keyworker food production) and we shop for his parents I stay in the car. His Mum likes to see me ❤️ Stay safe love xx']\n"
     ]
    }
   ],
   "source": [
    "print(tweet_data[0])"
   ]
  },
  {
   "cell_type": "markdown",
   "metadata": {},
   "source": [
    "The following code block:\n",
    "1. creates a Pandas `DataFrame` with the data (named `tweet_df`),\n",
    "2. converts the `Datetime` column to a datetime format,\n",
    "3. creates a `Date` column with just the date extracted from the `Datetime` column,\n",
    "4. creates a `Day_Name` column that specifies the day of the week that the tweet was posted.\n",
    "5. creates a `Weekend` column that is `True` if the tweet was posted on a weekend, and `False` otherwise."
   ]
  },
  {
   "cell_type": "code",
   "execution_count": 5,
   "metadata": {},
   "outputs": [
    {
     "data": {
      "text/html": [
       "<div>\n",
       "<style scoped>\n",
       "    .dataframe tbody tr th:only-of-type {\n",
       "        vertical-align: middle;\n",
       "    }\n",
       "\n",
       "    .dataframe tbody tr th {\n",
       "        vertical-align: top;\n",
       "    }\n",
       "\n",
       "    .dataframe thead th {\n",
       "        text-align: right;\n",
       "    }\n",
       "</style>\n",
       "<table border=\"1\" class=\"dataframe\">\n",
       "  <thead>\n",
       "    <tr style=\"text-align: right;\">\n",
       "      <th></th>\n",
       "      <th>Datetime</th>\n",
       "      <th>Username</th>\n",
       "      <th>User</th>\n",
       "      <th>Location</th>\n",
       "      <th>Language</th>\n",
       "      <th>Text</th>\n",
       "      <th>Date</th>\n",
       "      <th>Day_Name</th>\n",
       "      <th>Weekend</th>\n",
       "      <th>Hour</th>\n",
       "    </tr>\n",
       "  </thead>\n",
       "  <tbody>\n",
       "    <tr>\n",
       "      <th>0</th>\n",
       "      <td>2020-03-28 08:21:12+00:00</td>\n",
       "      <td>DianeB67082104</td>\n",
       "      <td>Diane B</td>\n",
       "      <td>Yorkshire and The Humber</td>\n",
       "      <td>en</td>\n",
       "      <td>@redviking_82 Yea we are fine staying home as ...</td>\n",
       "      <td>2020-03-28</td>\n",
       "      <td>Saturday</td>\n",
       "      <td>True</td>\n",
       "      <td>8</td>\n",
       "    </tr>\n",
       "    <tr>\n",
       "      <th>1</th>\n",
       "      <td>2020-03-28 09:07:14+00:00</td>\n",
       "      <td>BiotechPolicyUK</td>\n",
       "      <td>Michael M. Hopkins</td>\n",
       "      <td>Brighton, UK</td>\n",
       "      <td>en</td>\n",
       "      <td>This is a helpful analysis of NERVTAG delibera...</td>\n",
       "      <td>2020-03-28</td>\n",
       "      <td>Saturday</td>\n",
       "      <td>True</td>\n",
       "      <td>9</td>\n",
       "    </tr>\n",
       "    <tr>\n",
       "      <th>2</th>\n",
       "      <td>2020-03-28 00:14:05+00:00</td>\n",
       "      <td>MarketingEdgeM</td>\n",
       "      <td>Marketing Edge</td>\n",
       "      <td>Lagos, Nigeria</td>\n",
       "      <td>en</td>\n",
       "      <td>Kantar, the world’s leading data, insights and...</td>\n",
       "      <td>2020-03-28</td>\n",
       "      <td>Saturday</td>\n",
       "      <td>True</td>\n",
       "      <td>0</td>\n",
       "    </tr>\n",
       "    <tr>\n",
       "      <th>3</th>\n",
       "      <td>2020-03-28 05:36:36+00:00</td>\n",
       "      <td>Mrtroublelex</td>\n",
       "      <td>Raynomics</td>\n",
       "      <td>Warri, Nigeria</td>\n",
       "      <td>en</td>\n",
       "      <td>@iRuntown__ I been like you well well, but all...</td>\n",
       "      <td>2020-03-28</td>\n",
       "      <td>Saturday</td>\n",
       "      <td>True</td>\n",
       "      <td>5</td>\n",
       "    </tr>\n",
       "    <tr>\n",
       "      <th>4</th>\n",
       "      <td>2020-03-28 11:10:05+00:00</td>\n",
       "      <td>whitedragoncom</td>\n",
       "      <td>Kin Dle</td>\n",
       "      <td>None</td>\n",
       "      <td>en</td>\n",
       "      <td>Jesus Christ Christian Bible Prophecy News - F...</td>\n",
       "      <td>2020-03-28</td>\n",
       "      <td>Saturday</td>\n",
       "      <td>True</td>\n",
       "      <td>11</td>\n",
       "    </tr>\n",
       "  </tbody>\n",
       "</table>\n",
       "</div>"
      ],
      "text/plain": [
       "                   Datetime         Username                User  \\\n",
       "0 2020-03-28 08:21:12+00:00   DianeB67082104             Diane B   \n",
       "1 2020-03-28 09:07:14+00:00  BiotechPolicyUK  Michael M. Hopkins   \n",
       "2 2020-03-28 00:14:05+00:00   MarketingEdgeM      Marketing Edge   \n",
       "3 2020-03-28 05:36:36+00:00     Mrtroublelex           Raynomics   \n",
       "4 2020-03-28 11:10:05+00:00   whitedragoncom             Kin Dle   \n",
       "\n",
       "                   Location Language  \\\n",
       "0  Yorkshire and The Humber       en   \n",
       "1              Brighton, UK       en   \n",
       "2            Lagos, Nigeria       en   \n",
       "3            Warri, Nigeria       en   \n",
       "4                      None       en   \n",
       "\n",
       "                                                Text        Date  Day_Name  \\\n",
       "0  @redviking_82 Yea we are fine staying home as ...  2020-03-28  Saturday   \n",
       "1  This is a helpful analysis of NERVTAG delibera...  2020-03-28  Saturday   \n",
       "2  Kantar, the world’s leading data, insights and...  2020-03-28  Saturday   \n",
       "3  @iRuntown__ I been like you well well, but all...  2020-03-28  Saturday   \n",
       "4  Jesus Christ Christian Bible Prophecy News - F...  2020-03-28  Saturday   \n",
       "\n",
       "  Weekend  Hour  \n",
       "0    True     8  \n",
       "1    True     9  \n",
       "2    True     0  \n",
       "3    True     5  \n",
       "4    True    11  "
      ]
     },
     "execution_count": 5,
     "metadata": {},
     "output_type": "execute_result"
    }
   ],
   "source": [
    "column_names = [\n",
    "    'Datetime',\n",
    "    'Username',\n",
    "    'User',\n",
    "    'Location',\n",
    "    'Language',\n",
    "    'Text',\n",
    "]\n",
    "\n",
    "tweet_df = pd.DataFrame(tweet_data, \n",
    "                        columns = column_names)\n",
    "\n",
    "tweet_df['Datetime'] = pd.to_datetime(tweet_df['Datetime'], \n",
    "                                      format = '%a %b %d %H:%M:%S %z %Y')\n",
    "tweet_df['Date'] = tweet_df['Datetime'].dt.date\n",
    "tweet_df['Day_Name'] = tweet_df['Datetime'].dt.day_name()\n",
    "\n",
    "weekend_mask = tweet_df['Day_Name'].isin(['Saturday', 'Sunday'])\n",
    "tweet_df.loc[weekend_mask, 'Weekend'] = True\n",
    "tweet_df.loc[~weekend_mask, 'Weekend'] = True\n",
    "\n",
    "tweet_df['Hour'] = tweet_df['Datetime'].dt.hour\n",
    "tweet_df.head()"
   ]
  },
  {
   "cell_type": "markdown",
   "metadata": {},
   "source": [
    "The earlier code block shows that our data includes hundreds of thousands of tweets. For the sake of time, we will only work with a random sample of these tweets when demonstrating the data preparation steps. The following code block shows how we can use `numpy` to obtain a random sample of the tweets. **Note:** Specifying the `seed` for the random number generator allows us to draw *consistent* random samples. The first tweet in the sample is printed."
   ]
  },
  {
   "cell_type": "code",
   "execution_count": 6,
   "metadata": {},
   "outputs": [
    {
     "name": "stdout",
     "output_type": "stream",
     "text": [
      "@olandgren Dementia means my Dad has to listen to my Mother's questions all day about what is happening. She is still confused about COVID. She certainly does not understand the rioting.\n"
     ]
    }
   ],
   "source": [
    "np.random.seed(0)\n",
    "sample_size = 1000\n",
    "sample = np.random.choice(tweet_df['Text'].tolist(), \n",
    "                          size = sample_size,\n",
    "                          replace = False,\n",
    "                         )\n",
    "sample = sample.tolist()\n",
    "print(sample[0])"
   ]
  },
  {
   "cell_type": "markdown",
   "metadata": {},
   "source": [
    "A common first step in data preparation for NLP is tokenization. From https://www.analyticsvidhya.com/blog/2020/05/what-is-tokenization-nlp/:\n",
    "> Tokenization is a way of separating a piece of text into smaller units called tokens. Here, tokens can be either words, characters, or subwords. Hence, tokenization can be broadly classified into 3 types – word, character, and subword (n-gram characters) tokenization.\n",
    "\n",
    "In this notebook, we will be focusing on tokenizing the tweets into words or phrases (n-grams). We will begin with word tokenization. A obvious approach to such tokenization is splitting texts (tweets in our case) by spaces. The following code block shows how we can do this for the first tweet using Python's builtin `split` method for strings."
   ]
  },
  {
   "cell_type": "code",
   "execution_count": 7,
   "metadata": {},
   "outputs": [
    {
     "name": "stdout",
     "output_type": "stream",
     "text": [
      "['@olandgren', 'Dementia', 'means', 'my', 'Dad', 'has', 'to', 'listen', 'to', 'my', \"Mother's\", 'questions', 'all', 'day', 'about', 'what', 'is', 'happening.', 'She', 'is', 'still', 'confused', 'about', 'COVID.', 'She', 'certainly', 'does', 'not', 'understand', 'the', 'rioting.']\n"
     ]
    }
   ],
   "source": [
    "current_tweet = sample[0]\n",
    "print(current_tweet.split())"
   ]
  },
  {
   "cell_type": "markdown",
   "metadata": {},
   "source": [
    "Our simple tokenization method of splitting on spaces works perfectly for the first tweet. However, let's consider another example where the tweet includes emojis."
   ]
  },
  {
   "cell_type": "code",
   "execution_count": 8,
   "metadata": {
    "scrolled": false
   },
   "outputs": [
    {
     "name": "stdout",
     "output_type": "stream",
     "text": [
      "['@chrissyteigen', 'I’m', 'a', 'Native', 'American', 'living', 'on', 'a', 'reservation', 'in', '#Manitoba', '#Indigenous', 'we', 'love', 'you', '😍', '❤️🇨🇦👩🏽\\u200d🍳👩🏽\\u200d🍳👩🏽\\u200d🍳👩🏽\\u200d🍳👩🏽\\u200d🍳👩🏽\\u200d🍳🌹#StaySafeStayHome', '#food', '#TopChef']\n"
     ]
    }
   ],
   "source": [
    "current_tweet = sample[2]\n",
    "print(current_tweet.split())"
   ]
  },
  {
   "cell_type": "markdown",
   "metadata": {},
   "source": [
    "As you can see, our space-splitting method does not perform as well in this case. This is where the `nltk` library can be helpful. In particular, the library includes several *tokenizers* that can be employed and customized to improve tokenization for a given task. The following code block shows the various tokenizers that are available in the `nltk.tokenize` module. Of particular interest for us, note that the module includes a `TweetTokenizer`."
   ]
  },
  {
   "cell_type": "code",
   "execution_count": 9,
   "metadata": {},
   "outputs": [
    {
     "name": "stdout",
     "output_type": "stream",
     "text": [
      "['BlanklineTokenizer', 'LineTokenizer', 'MWETokenizer', 'NLTKWordTokenizer', 'PunktSentenceTokenizer', 'RegexpTokenizer', 'ReppTokenizer', 'SExprTokenizer', 'SpaceTokenizer', 'StanfordSegmenter', 'SyllableTokenizer', 'TabTokenizer', 'TextTilingTokenizer', 'ToktokTokenizer', 'TreebankWordTokenizer', 'TweetTokenizer', 'WhitespaceTokenizer', 'WordPunctTokenizer', '__builtins__', '__cached__', '__doc__', '__file__', '__loader__', '__name__', '__package__', '__path__', '__spec__', '_treebank_word_tokenizer', 'api', 'blankline_tokenize', 'casual', 'casual_tokenize', 'destructive', 'line_tokenize', 'load', 'mwe', 'punkt', 're', 'regexp', 'regexp_span_tokenize', 'regexp_tokenize', 'repp', 'sent_tokenize', 'sexpr', 'sexpr_tokenize', 'simple', 'sonority_sequencing', 'stanford_segmenter', 'string_span_tokenize', 'texttiling', 'toktok', 'treebank', 'util', 'word_tokenize', 'wordpunct_tokenize']\n"
     ]
    }
   ],
   "source": [
    "print(dir(nltk.tokenize))"
   ]
  },
  {
   "cell_type": "markdown",
   "metadata": {},
   "source": [
    "The following code block shows how we can use the `TweetTokenizer` to tokenize the previous example."
   ]
  },
  {
   "cell_type": "code",
   "execution_count": 10,
   "metadata": {},
   "outputs": [
    {
     "name": "stdout",
     "output_type": "stream",
     "text": [
      "['@chrissyteigen', 'I', '’', 'm', 'a', 'Native', 'American', 'living', 'on', 'a', 'reservation', 'in', '#Manitoba', '#Indigenous', 'we', 'love', 'you', '😍', '❤', '️', '🇨', '🇦', '👩', '🏽', '\\u200d', '🍳', '👩', '🏽', '\\u200d', '🍳', '👩', '🏽', '\\u200d', '🍳', '👩', '🏽', '\\u200d', '🍳', '👩', '🏽', '\\u200d', '🍳', '👩', '🏽', '\\u200d', '🍳', '🌹', '#StaySafeStayHome', '#food', '#TopChef']\n"
     ]
    }
   ],
   "source": [
    "current_tweet = sample[2]\n",
    "tknzr = nltk.tokenize.TweetTokenizer()\n",
    "print(tknzr.tokenize(current_tweet))"
   ]
  },
  {
   "cell_type": "markdown",
   "metadata": {},
   "source": [
    "The following code block shows how we can apply the `TweetTokenizer` to all of the tweets in our sample, storing the the tokens for each tweet in a list object named `tweet_tokens`. **Note** that applying the tokenizer to a single tweet returned a list of all the tokensin the tweet. Thus, our `tweet_tokens` object will be a list of lists, where each sublist specifies the tokens for a single tweet.\n",
    "\n",
    "After constructing the `tweet_tokens` object, we construct a list of all tokens and use the `nltk.FreqDist` function to identify the 30 tokens that occur most frequently in the sample of tweets."
   ]
  },
  {
   "cell_type": "code",
   "execution_count": 11,
   "metadata": {
    "scrolled": false
   },
   "outputs": [
    {
     "data": {
      "text/plain": [
       "[('.', 1495),\n",
       " ('the', 1147),\n",
       " (',', 1043),\n",
       " ('to', 959),\n",
       " ('and', 830),\n",
       " ('of', 655),\n",
       " ('a', 554),\n",
       " ('in', 477),\n",
       " ('is', 427),\n",
       " ('for', 393),\n",
       " ('-', 388),\n",
       " ('I', 343),\n",
       " ('’', 333),\n",
       " ('19', 306),\n",
       " ('are', 302),\n",
       " ('COVID', 289),\n",
       " ('!', 280),\n",
       " ('you', 265),\n",
       " ('it', 255),\n",
       " ('that', 251),\n",
       " ('?', 247),\n",
       " ('food', 246),\n",
       " ('on', 225),\n",
       " ('with', 220),\n",
       " ('have', 210),\n",
       " ('this', 200),\n",
       " ('not', 185),\n",
       " (':', 172),\n",
       " ('Covid', 171),\n",
       " ('be', 169)]"
      ]
     },
     "execution_count": 11,
     "metadata": {},
     "output_type": "execute_result"
    }
   ],
   "source": [
    "tweet_tokens = [tknzr.tokenize(current_tweet) for current_tweet in sample]\n",
    "all_tokens = list(itertools.chain.from_iterable(tweet_tokens))\n",
    "freq_dist = nltk.FreqDist(all_tokens)\n",
    "freq_dist.most_common(30)"
   ]
  },
  {
   "cell_type": "markdown",
   "metadata": {},
   "source": [
    "Inspecting the most common 30 tokens reveals some potential issues. First, many of the most common tokens are punctuation symbols. Second, we observe some inconsistencies due to spelling case, e.g., COVID vs. Covid. Third, we observe many words that may not necessarily be too informative with regard to understanding a particular text, e.g., the, and, etc. \n",
    "\n",
    "We will now work to handle these issues, starting with punctuation. For this purpose, we will use the `string` library. The following code block shows how we can use the library to get a string that contains common punctuation symbols."
   ]
  },
  {
   "cell_type": "code",
   "execution_count": 12,
   "metadata": {},
   "outputs": [
    {
     "data": {
      "text/plain": [
       "'!\"#$%&\\'()*+,-./:;<=>?@[\\\\]^_`{|}~'"
      ]
     },
     "execution_count": 12,
     "metadata": {},
     "output_type": "execute_result"
    }
   ],
   "source": [
    "string.punctuation"
   ]
  },
  {
   "cell_type": "markdown",
   "metadata": {},
   "source": [
    "Note that we can use the `in` comparison operator to see if a specific character is in the common punctuation string."
   ]
  },
  {
   "cell_type": "code",
   "execution_count": 13,
   "metadata": {},
   "outputs": [
    {
     "data": {
      "text/plain": [
       "True"
      ]
     },
     "execution_count": 13,
     "metadata": {},
     "output_type": "execute_result"
    }
   ],
   "source": [
    "'.' in string.punctuation"
   ]
  },
  {
   "cell_type": "markdown",
   "metadata": {},
   "source": [
    "Similarly, the `nltk` library includes a list of stopwords that we can use to remove common words that add little additional information to texts. The following code block shows how we can access the list of common stopwords for the English language using `nltk`."
   ]
  },
  {
   "cell_type": "code",
   "execution_count": 14,
   "metadata": {
    "scrolled": false
   },
   "outputs": [
    {
     "name": "stdout",
     "output_type": "stream",
     "text": [
      "['i', 'me', 'my', 'myself', 'we', 'our', 'ours', 'ourselves', 'you', \"you're\", \"you've\", \"you'll\", \"you'd\", 'your', 'yours', 'yourself', 'yourselves', 'he', 'him', 'his', 'himself', 'she', \"she's\", 'her', 'hers', 'herself', 'it', \"it's\", 'its', 'itself', 'they', 'them', 'their', 'theirs', 'themselves', 'what', 'which', 'who', 'whom', 'this', 'that', \"that'll\", 'these', 'those', 'am', 'is', 'are', 'was', 'were', 'be', 'been', 'being', 'have', 'has', 'had', 'having', 'do', 'does', 'did', 'doing', 'a', 'an', 'the', 'and', 'but', 'if', 'or', 'because', 'as', 'until', 'while', 'of', 'at', 'by', 'for', 'with', 'about', 'against', 'between', 'into', 'through', 'during', 'before', 'after', 'above', 'below', 'to', 'from', 'up', 'down', 'in', 'out', 'on', 'off', 'over', 'under', 'again', 'further', 'then', 'once', 'here', 'there', 'when', 'where', 'why', 'how', 'all', 'any', 'both', 'each', 'few', 'more', 'most', 'other', 'some', 'such', 'no', 'nor', 'not', 'only', 'own', 'same', 'so', 'than', 'too', 'very', 's', 't', 'can', 'will', 'just', 'don', \"don't\", 'should', \"should've\", 'now', 'd', 'll', 'm', 'o', 're', 've', 'y', 'ain', 'aren', \"aren't\", 'couldn', \"couldn't\", 'didn', \"didn't\", 'doesn', \"doesn't\", 'hadn', \"hadn't\", 'hasn', \"hasn't\", 'haven', \"haven't\", 'isn', \"isn't\", 'ma', 'mightn', \"mightn't\", 'mustn', \"mustn't\", 'needn', \"needn't\", 'shan', \"shan't\", 'shouldn', \"shouldn't\", 'wasn', \"wasn't\", 'weren', \"weren't\", 'won', \"won't\", 'wouldn', \"wouldn't\"]\n"
     ]
    }
   ],
   "source": [
    "print(nltk.corpus.stopwords.words('english'))"
   ]
  },
  {
   "cell_type": "markdown",
   "metadata": {},
   "source": [
    "As we did for punctuation, we can use the `in` comparison operator to see if a string is a stopword."
   ]
  },
  {
   "cell_type": "code",
   "execution_count": 15,
   "metadata": {},
   "outputs": [
    {
     "data": {
      "text/plain": [
       "True"
      ]
     },
     "execution_count": 15,
     "metadata": {},
     "output_type": "execute_result"
    }
   ],
   "source": [
    "'the' in nltk.corpus.stopwords.words('english')"
   ]
  },
  {
   "cell_type": "markdown",
   "metadata": {},
   "source": [
    "The following code block contains a revised tokenization process that handles the three previously identified issues, using the builtin `lower` method for strings to handle the spelling case issues."
   ]
  },
  {
   "cell_type": "code",
   "execution_count": 16,
   "metadata": {
    "scrolled": false
   },
   "outputs": [
    {
     "data": {
      "text/plain": [
       "[('covid', 565),\n",
       " ('’', 333),\n",
       " ('19', 306),\n",
       " ('food', 278),\n",
       " ('people', 130),\n",
       " ('...', 128),\n",
       " ('get', 93),\n",
       " ('like', 82),\n",
       " ('us', 82),\n",
       " ('one', 60),\n",
       " ('help', 59),\n",
       " ('time', 55),\n",
       " ('even', 54),\n",
       " ('pandemic', 54),\n",
       " ('deaths', 54),\n",
       " ('still', 53),\n",
       " ('..', 51),\n",
       " ('think', 50),\n",
       " ('need', 49),\n",
       " ('trump', 49),\n",
       " ('would', 48),\n",
       " ('health', 47),\n",
       " ('#covid19', 47),\n",
       " (':/', 47),\n",
       " ('good', 46),\n",
       " ('new', 45),\n",
       " ('many', 44),\n",
       " ('see', 44),\n",
       " ('virus', 44),\n",
       " ('cases', 43)]"
      ]
     },
     "execution_count": 16,
     "metadata": {},
     "output_type": "execute_result"
    }
   ],
   "source": [
    "tweet_tokens = []\n",
    "for current_tweet in sample:\n",
    "    # tokenize a lower-cased version of the tweet\n",
    "    current_tokens = tknzr.tokenize(current_tweet.lower())\n",
    "    \n",
    "    # remove puntuation\n",
    "    current_tokens = [current_token for current_token in current_tokens if current_token not in string.punctuation]\n",
    "    \n",
    "    # remove stopwords\n",
    "    current_tokens = [current_token for current_token in current_tokens if current_token not in nltk.corpus.stopwords.words('english')]\n",
    "    tweet_tokens.append(current_tokens)\n",
    "    \n",
    "all_tokens = list(itertools.chain.from_iterable(tweet_tokens))\n",
    "freq_dist = nltk.FreqDist(all_tokens)\n",
    "freq_dist.most_common(30)"
   ]
  },
  {
   "cell_type": "markdown",
   "metadata": {},
   "source": [
    "Although this is better, we can still make some improvements by defining custom stopwords to catch some of the less traditional strings we observe. This is done in the following code block."
   ]
  },
  {
   "cell_type": "code",
   "execution_count": 17,
   "metadata": {},
   "outputs": [
    {
     "data": {
      "text/plain": [
       "[('covid', 565),\n",
       " ('’', 333),\n",
       " ('19', 306),\n",
       " ('food', 278),\n",
       " ('people', 130),\n",
       " ('like', 82),\n",
       " ('us', 82),\n",
       " ('one', 60),\n",
       " ('help', 59),\n",
       " ('time', 55),\n",
       " ('even', 54),\n",
       " ('pandemic', 54),\n",
       " ('deaths', 54),\n",
       " ('still', 53),\n",
       " ('think', 50),\n",
       " ('need', 49),\n",
       " ('trump', 49),\n",
       " ('would', 48),\n",
       " ('health', 47),\n",
       " ('#covid19', 47),\n",
       " (':/', 47),\n",
       " ('good', 46),\n",
       " ('new', 45),\n",
       " ('many', 44),\n",
       " ('see', 44),\n",
       " ('virus', 44),\n",
       " ('cases', 43),\n",
       " ('please', 42),\n",
       " ('know', 42),\n",
       " ('home', 41)]"
      ]
     },
     "execution_count": 17,
     "metadata": {},
     "output_type": "execute_result"
    }
   ],
   "source": [
    "my_stopwords = nltk.corpus.stopwords.words('english')\n",
    "my_stopwords.extend(['..', '...', 'get'])\n",
    "\n",
    "tweet_tokens = []\n",
    "for current_tweet in sample:\n",
    "    current_tokens = tknzr.tokenize(current_tweet.lower())\n",
    "    current_tokens = [current_token for current_token in current_tokens if current_token not in string.punctuation]\n",
    "    current_tokens = [current_token for current_token in current_tokens if current_token not in my_stopwords]\n",
    "    tweet_tokens.append(current_tokens)\n",
    "    \n",
    "all_tokens = list(itertools.chain.from_iterable(tweet_tokens))\n",
    "freq_dist = nltk.FreqDist(all_tokens)\n",
    "freq_dist.most_common(30)"
   ]
  },
  {
   "cell_type": "markdown",
   "metadata": {},
   "source": [
    "This last list looks better. **By the way, did you notice the speed difference between the previous two code blocks? What is happening?**\n",
    "\n",
    "Although it is not evident in the previous list of common tokens, there is another issue that might cause some problems. In particular, notice that the list includes the words *deaths* and *cases*, which are the plural forms of *death* and *case*. Should we consider the singular and plural forms of words as different words? Typically, we use a technique called lemmatization to handle such cases. From https://en.wikipedia.org/wiki/Lemmatisation:\n",
    "> Lemmatisation (or lemmatization) in linguistics is the process of grouping together the inflected forms of a word so they can be analysed as a single item, identified by the word's lemma, or dictionary form.\n",
    "\n",
    "Again, `nltk` comes to the rescue with several *lemmatizers* built in. The following code block shows how we can instantiate a lemmatizer."
   ]
  },
  {
   "cell_type": "code",
   "execution_count": 18,
   "metadata": {},
   "outputs": [],
   "source": [
    "lemmatizer = nltk.stem.WordNetLemmatizer() "
   ]
  },
  {
   "cell_type": "markdown",
   "metadata": {},
   "source": [
    "The following code block shows how we can use the `lemmatize` method of the instantiated lemmatizer to lemmatize the first tweet in our sample."
   ]
  },
  {
   "cell_type": "code",
   "execution_count": 19,
   "metadata": {},
   "outputs": [
    {
     "name": "stdout",
     "output_type": "stream",
     "text": [
      "Token: @olandgren -> @olandgren\n",
      "Token: dementia -> dementia\n",
      "Token: means -> mean\n",
      "Token: dad -> dad\n",
      "Token: listen -> listen\n",
      "Token: mother's -> mother's\n",
      "Token: questions -> question\n",
      "Token: day -> day\n",
      "Token: happening -> happening\n",
      "Token: still -> still\n",
      "Token: confused -> confused\n",
      "Token: covid -> covid\n",
      "Token: certainly -> certainly\n",
      "Token: understand -> understand\n",
      "Token: rioting -> rioting\n"
     ]
    }
   ],
   "source": [
    "for token in tweet_tokens[0]:\n",
    "    print(f'Token: {token} -> {lemmatizer.lemmatize(token)}')"
   ]
  },
  {
   "cell_type": "markdown",
   "metadata": {},
   "source": [
    "We can go further by reducing lemmatized tokens to their respective stems. From https://en.wikipedia.org/wiki/Stemming:\n",
    ">stemming is the process of reducing inflected (or sometimes derived) words to their word stem, base or root form—generally a written word form. The stem need not be identical to the morphological root of the word; it is usually sufficient that related words map to the same stem, even if this stem is not in itself a valid root.\n",
    "\n",
    "Again, `nltk` has a variety of builtin *stemmers*. The following code block instantiates a popular stemmer, the *Porter* stemmer."
   ]
  },
  {
   "cell_type": "code",
   "execution_count": 20,
   "metadata": {},
   "outputs": [],
   "source": [
    "stemmer = nltk.stem.porter.PorterStemmer()"
   ]
  },
  {
   "cell_type": "markdown",
   "metadata": {},
   "source": [
    "The following code block applies the stemmer to our lemmatized tokens."
   ]
  },
  {
   "cell_type": "code",
   "execution_count": 21,
   "metadata": {},
   "outputs": [
    {
     "name": "stdout",
     "output_type": "stream",
     "text": [
      "Token: @olandgren -> @olandgren -> @olandgren\n",
      "Token: dementia -> dementia -> dementia\n",
      "Token: means -> mean -> mean\n",
      "Token: dad -> dad -> dad\n",
      "Token: listen -> listen -> listen\n",
      "Token: mother's -> mother's -> mother'\n",
      "Token: questions -> question -> question\n",
      "Token: day -> day -> day\n",
      "Token: happening -> happening -> happen\n",
      "Token: still -> still -> still\n",
      "Token: confused -> confused -> confus\n",
      "Token: covid -> covid -> covid\n",
      "Token: certainly -> certainly -> certainli\n",
      "Token: understand -> understand -> understand\n",
      "Token: rioting -> rioting -> riot\n"
     ]
    }
   ],
   "source": [
    "for token in tweet_tokens[0]:\n",
    "    lemma = lemmatizer.lemmatize(token)\n",
    "    stem = stemmer.stem(lemma)\n",
    "    print(f'Token: {token} -> {lemma} -> {stem}')"
   ]
  },
  {
   "cell_type": "markdown",
   "metadata": {},
   "source": [
    "The following code block defines a function that we can use to apply all of our data preparation techniques a list of tweets."
   ]
  },
  {
   "cell_type": "code",
   "execution_count": 22,
   "metadata": {},
   "outputs": [],
   "source": [
    "def prepare_texts(list_of_texts):\n",
    "    my_stopwords = nltk.corpus.stopwords.words('english')\n",
    "    my_stopwords.extend(['..', '...', 'get'])\n",
    "    lemmatizer = nltk.stem.WordNetLemmatizer()\n",
    "    stemmer = nltk.stem.porter.PorterStemmer()\n",
    "\n",
    "    tokens = []\n",
    "    for current_text in list_of_texts:\n",
    "        current_tokens = tknzr.tokenize(current_text.lower())\n",
    "        current_tokens = [current_token for current_token in current_tokens if current_token not in string.punctuation]\n",
    "        current_tokens = [current_token for current_token in current_tokens if current_token not in my_stopwords]\n",
    "        current_tokens = [lemmatizer.lemmatize(current_token) for current_token in current_tokens]\n",
    "        current_tokens = [stemmer.stem(current_token) for current_token in current_tokens]\n",
    "        tokens.append(current_tokens)\n",
    "        \n",
    "    return tokens"
   ]
  },
  {
   "cell_type": "markdown",
   "metadata": {},
   "source": [
    "The following code block demonstrates the complete pipeline we have developed so far."
   ]
  },
  {
   "cell_type": "code",
   "execution_count": 23,
   "metadata": {},
   "outputs": [
    {
     "name": "stdout",
     "output_type": "stream",
     "text": [
      "Text preparation took 11.82 seconds\n"
     ]
    },
    {
     "data": {
      "text/plain": [
       "[('covid', 565),\n",
       " ('’', 333),\n",
       " ('19', 306),\n",
       " ('food', 280),\n",
       " ('peopl', 133),\n",
       " ('u', 103),\n",
       " ('like', 92),\n",
       " ('death', 88),\n",
       " ('help', 76),\n",
       " ('go', 75),\n",
       " ('work', 72),\n",
       " ('time', 71),\n",
       " ('one', 70),\n",
       " ('need', 70),\n",
       " ('test', 64),\n",
       " ('day', 62),\n",
       " ('make', 61),\n",
       " ('think', 57),\n",
       " ('even', 55),\n",
       " ('life', 55),\n",
       " ('pandem', 54),\n",
       " ('still', 53),\n",
       " ('home', 53),\n",
       " ('know', 53),\n",
       " ('case', 51),\n",
       " ('die', 51),\n",
       " ('trump', 50),\n",
       " ('see', 49),\n",
       " ('would', 48),\n",
       " ('health', 47)]"
      ]
     },
     "execution_count": 23,
     "metadata": {},
     "output_type": "execute_result"
    }
   ],
   "source": [
    "start_time = time.time()\n",
    "\n",
    "# read raw data\n",
    "raw_data_filepath = pathlib.Path('relevant_data.json.gz')\n",
    "\n",
    "with gzip.GzipFile(raw_data_filepath, 'r') as fp:\n",
    "    json_bytes = fp.read()\n",
    "    json_str = json_bytes.decode('utf-8')\n",
    "    tweet_data = json.loads(json_str)\n",
    "    \n",
    "# convert to Pandas DataFrame\n",
    "tweet_df = pd.DataFrame(tweet_data, \n",
    "                        columns = column_names)\n",
    "\n",
    "tweet_df['Datetime'] = pd.to_datetime(tweet_df['Datetime'], \n",
    "                                      format = '%a %b %d %H:%M:%S %z %Y')\n",
    "tweet_df['Date'] = tweet_df['Datetime'].dt.date\n",
    "tweet_df['Day_Name'] = tweet_df['Datetime'].dt.day_name()\n",
    "\n",
    "weekend_mask = tweet_df['Day_Name'].isin(['Saturday', 'Sunday'])\n",
    "tweet_df.loc[weekend_mask, 'Weekend'] = True\n",
    "tweet_df.loc[~weekend_mask, 'Weekend'] = True\n",
    "\n",
    "tweet_df['Hour'] = tweet_df['Datetime'].dt.hour\n",
    "    \n",
    "# get sample\n",
    "np.random.seed(0)\n",
    "sample_size = 1000\n",
    "sample = np.random.choice(tweet_df['Text'].tolist(), \n",
    "                          size = sample_size,\n",
    "                          replace = False,\n",
    "                         )\n",
    "sample = sample.tolist()\n",
    "column_names = [\n",
    "    'Datetime',\n",
    "    'Username',\n",
    "    'User',\n",
    "    'Location',\n",
    "    'Language',\n",
    "    'Text',\n",
    "]\n",
    "\n",
    "# prepare tweets\n",
    "tweet_tokens = prepare_texts(sample)\n",
    "    \n",
    "# get 30 most common tokens\n",
    "all_tokens = list(itertools.chain.from_iterable(tweet_tokens))\n",
    "freq_dist = nltk.FreqDist(all_tokens)\n",
    "\n",
    "end_time = time.time()\n",
    "elapsed_time = round(end_time - start_time, 2)\n",
    "print(f'Text preparation took {elapsed_time} seconds')\n",
    "\n",
    "freq_dist.most_common(30)"
   ]
  },
  {
   "cell_type": "markdown",
   "metadata": {},
   "source": [
    "So far, we have only worked with individual tokens. However, in language, words used in close proximity are typically necessary for understaing. In NLP, a bigram refers to two consecutive tokens, a trigram refers to three consecutive tokens, and an $n$-gram refers to $n$ consecutive tokens. The following code block shows a simple way that `nltk` allows us to construct all bigrams for a specific set of tokens."
   ]
  },
  {
   "cell_type": "code",
   "execution_count": 24,
   "metadata": {},
   "outputs": [
    {
     "data": {
      "text/plain": [
       "[('@olandgren', 'dementia'),\n",
       " ('dementia', 'mean'),\n",
       " ('mean', 'dad'),\n",
       " ('dad', 'listen'),\n",
       " ('listen', \"mother'\"),\n",
       " (\"mother'\", 'question'),\n",
       " ('question', 'day'),\n",
       " ('day', 'happen'),\n",
       " ('happen', 'still'),\n",
       " ('still', 'confus'),\n",
       " ('confus', 'covid'),\n",
       " ('covid', 'certainli'),\n",
       " ('certainli', 'understand'),\n",
       " ('understand', 'riot')]"
      ]
     },
     "execution_count": 24,
     "metadata": {},
     "output_type": "execute_result"
    }
   ],
   "source": [
    "[i for i in nltk.ngrams(tweet_tokens[0], n = 2)]"
   ]
  },
  {
   "cell_type": "markdown",
   "metadata": {},
   "source": [
    "As you can imagine, using such an exhaustive approach would be difficult, not to mention computationally expensive. Moreover, many $n$-grams will be meaningless. Thus, we are most likely to be interested in frequently appearing $n$-grams. Thankfully, `nltk` contains some simpler methods for this purpose. The following code block shows how we can use `nltk` to identify the most common 50 bigrams in our sample."
   ]
  },
  {
   "cell_type": "code",
   "execution_count": 25,
   "metadata": {},
   "outputs": [
    {
     "data": {
      "text/plain": [
       "[('covid', '19'),\n",
       " ('wear', 'mask'),\n",
       " ('test', 'posit'),\n",
       " ('🇦', '🇪'),\n",
       " ('😂', '😂'),\n",
       " ('due', 'covid'),\n",
       " ('👩', '🏽'),\n",
       " ('\\u200d', '🍳'),\n",
       " ('🙏', '🙏'),\n",
       " ('😭', '😭'),\n",
       " ('🍳', '👩'),\n",
       " ('19', 'pandem'),\n",
       " ('save', 'life'),\n",
       " ('🏽', '\\u200d'),\n",
       " ('new', 'york'),\n",
       " ('social', 'distanc'),\n",
       " ('nurs', 'home'),\n",
       " ('🤣', '🤣'),\n",
       " ('❤', '️'),\n",
       " ('mortal', 'rate'),\n",
       " ('stay', 'home'),\n",
       " ('social', 'medium'),\n",
       " ('\\u200d', '♀'),\n",
       " ('sign', 'petit'),\n",
       " ('conspiraci', 'theori'),\n",
       " ('immun', 'system'),\n",
       " ('make', 'sens'),\n",
       " ('hong', 'kong'),\n",
       " ('posit', 'covid'),\n",
       " ('common', 'sens'),\n",
       " ('death', 'toll'),\n",
       " ('food', 'bank'),\n",
       " ('cant', 'cant'),\n",
       " ('suprem', 'court'),\n",
       " ('pass', 'away'),\n",
       " ('health', 'safeti'),\n",
       " ('open', 'letter'),\n",
       " ('look', 'forward'),\n",
       " ('broke', 'rule'),\n",
       " ('19', 'case'),\n",
       " ('pleas', 'help'),\n",
       " ('last', 'night'),\n",
       " ('donald', 'trump'),\n",
       " ('🤦', '\\u200d'),\n",
       " ('via', '@chang'),\n",
       " ('via', '@gatewaypundit'),\n",
       " ('108', 'ambul'),\n",
       " ('@coopuk', '@aldiuk'),\n",
       " ('@lidlgb', '@coopuk'),\n",
       " ('@morrison', '@lidlgb')]"
      ]
     },
     "execution_count": 25,
     "metadata": {},
     "output_type": "execute_result"
    }
   ],
   "source": [
    "finder = nltk.collocations.BigramCollocationFinder.from_documents(tweet_tokens)\n",
    "finder.nbest(nltk.collocations.BigramAssocMeasures().likelihood_ratio, 50)"
   ]
  },
  {
   "cell_type": "markdown",
   "metadata": {},
   "source": [
    "Similarly, the following code block shows how we can identify the most common 50 trigrams in our sample."
   ]
  },
  {
   "cell_type": "code",
   "execution_count": 26,
   "metadata": {
    "scrolled": false
   },
   "outputs": [
    {
     "data": {
      "text/plain": [
       "[('due', 'covid', '19'),\n",
       " ('covid', '19', 'pandem'),\n",
       " ('posit', 'covid', '19'),\n",
       " ('covid', '19', 'case'),\n",
       " ('fight', 'covid', '19'),\n",
       " ('die', 'covid', '19'),\n",
       " ('diagnos', 'covid', '19'),\n",
       " ('covid', '19', 'death'),\n",
       " ('handl', 'covid', '19'),\n",
       " ('covid', '19', 'patient'),\n",
       " ('spread', 'covid', '19'),\n",
       " ('transmiss', 'covid', '19'),\n",
       " ('impact', 'covid', '19'),\n",
       " ('affect', 'covid', '19'),\n",
       " ('covid', '19', 'crisi'),\n",
       " ('post', 'covid', '19'),\n",
       " ('covid', '19', 'relat'),\n",
       " ('covid', '19', 'test'),\n",
       " ('covid', '19', 'mitig'),\n",
       " ('battl', 'covid', '19'),\n",
       " ('amid', 'covid', '19'),\n",
       " ('covid', '19', 'medicaid'),\n",
       " ('treat', 'covid', '19'),\n",
       " ('covid', 'covid', '19'),\n",
       " ('coverag', 'covid', '19'),\n",
       " ('tackl', 'covid', '19'),\n",
       " ('covid', '19', 'spread'),\n",
       " ('covid', '19', 'respons'),\n",
       " ('respons', 'covid', '19'),\n",
       " ('covid', '19', 'vaccin'),\n",
       " ('treatment', 'covid', '19'),\n",
       " ('record', 'covid', '19'),\n",
       " ('case', 'covid', '19'),\n",
       " ('got', 'covid', '19'),\n",
       " ('covid', '19', 'mortal'),\n",
       " ('novel', 'covid', '19'),\n",
       " ('rise', 'covid', '19'),\n",
       " ('war', 'covid', '19'),\n",
       " ('catch', 'covid', '19'),\n",
       " ('reduc', 'covid', '19'),\n",
       " ('statement', 'covid', '19'),\n",
       " ('covid', '19', 'infect'),\n",
       " ('#factsmatt', 'covid', '19'),\n",
       " ('20,000', 'covid', '19'),\n",
       " ('20k', 'covid', '19'),\n",
       " ('277', 'covid', '19'),\n",
       " ('3.implement', 'covid', '19'),\n",
       " ('36', 'covid', '19'),\n",
       " ('406', 'covid', '19'),\n",
       " ('750,000', 'covid', '19')]"
      ]
     },
     "execution_count": 26,
     "metadata": {},
     "output_type": "execute_result"
    }
   ],
   "source": [
    "finder = nltk.collocations.TrigramCollocationFinder.from_documents(tweet_tokens)\n",
    "finder.nbest(nltk.collocations.TrigramAssocMeasures().likelihood_ratio, 50)"
   ]
  },
  {
   "cell_type": "markdown",
   "metadata": {},
   "source": [
    "Instead of just keeping a fixed number of common $n$-grams, we can also specify a threshold. In particuar, the threshold will result in `nltk` only returning $n$-grams that appear in the corpus a number of times greater than or equal to the threshold. The follwoing code block shows how we can apply a threshold of 5 to bigrams and trigrams. I also create a *replacement test* for each bigram or trigram that we will use to replace tokens corresponding to the identified bigrams and trigrams."
   ]
  },
  {
   "cell_type": "code",
   "execution_count": 27,
   "metadata": {},
   "outputs": [],
   "source": [
    "threshold = 5\n",
    "\n",
    "trigram_finder = nltk.collocations.TrigramCollocationFinder.from_documents(tweet_tokens)\n",
    "trigram_finder.apply_freq_filter(threshold)\n",
    "trigrams = {trigram: '_'.join(trigram) for trigram in trigram_finder.ngram_fd}\n",
    "\n",
    "bigram_finder = nltk.collocations.BigramCollocationFinder.from_documents(tweet_tokens)\n",
    "bigram_finder.apply_freq_filter(threshold)\n",
    "bigrams = {bigram: '_'.join(bigram) for bigram in bigram_finder.ngram_fd}"
   ]
  },
  {
   "cell_type": "markdown",
   "metadata": {},
   "source": [
    "The identified bigrams are:"
   ]
  },
  {
   "cell_type": "code",
   "execution_count": 28,
   "metadata": {},
   "outputs": [
    {
     "data": {
      "text/plain": [
       "{('covid', '19'): 'covid_19',\n",
       " ('due', 'covid'): 'due_covid',\n",
       " ('19', 'pandem'): '19_pandem',\n",
       " ('test', 'posit'): 'test_posit',\n",
       " ('posit', 'covid'): 'posit_covid',\n",
       " ('wear', 'mask'): 'wear_mask',\n",
       " ('19', 'case'): '19_case',\n",
       " ('covid', 'patient'): 'covid_patient',\n",
       " ('die', 'covid'): 'die_covid',\n",
       " ('19', 'death'): '19_death',\n",
       " ('😂', '😂'): '😂_😂',\n",
       " ('fight', 'covid'): 'fight_covid',\n",
       " ('mani', 'peopl'): 'mani_peopl',\n",
       " ('covid', 'death'): 'covid_death',\n",
       " ('food', '’'): 'food_’',\n",
       " ('put', 'food'): 'put_food',\n",
       " ('stay', 'home'): 'stay_home',\n",
       " ('save', 'life'): 'save_life',\n",
       " ('🙏', '🙏'): '🙏_🙏',\n",
       " ('nurs', 'home'): 'nurs_home',\n",
       " ('😭', '😭'): '😭_😭',\n",
       " ('covid', 'case'): 'covid_case',\n",
       " ('covid', 'test'): 'covid_test',\n",
       " ('covid', '’'): 'covid_’',\n",
       " ('food', 'bank'): 'food_bank',\n",
       " ('spread', 'covid'): 'spread_covid',\n",
       " ('pleas', 'help'): 'pleas_help',\n",
       " ('👩', '🏽'): '👩_🏽',\n",
       " ('🏽', '\\u200d'): '🏽_\\u200d',\n",
       " ('\\u200d', '🍳'): '\\u200d_🍳',\n",
       " ('make', 'sens'): 'make_sens',\n",
       " ('’', 'say'): '’_say',\n",
       " ('social', 'medium'): 'social_medium',\n",
       " ('new', 'york'): 'new_york',\n",
       " ('case', 'covid'): 'case_covid',\n",
       " ('money', 'food'): 'money_food',\n",
       " ('🇦', '🇪'): '🇦_🇪',\n",
       " ('buy', 'food'): 'buy_food',\n",
       " ('19', 'test'): '19_test',\n",
       " ('social', 'distanc'): 'social_distanc',\n",
       " ('❤', '️'): '❤_️',\n",
       " ('🍳', '👩'): '🍳_👩',\n",
       " ('feel', 'like'): 'feel_like',\n",
       " ('go', 'back'): 'go_back',\n",
       " ('sign', 'petit'): 'sign_petit',\n",
       " ('deliv', 'food'): 'deliv_food',\n",
       " ('immun', 'system'): 'immun_system',\n",
       " ('peopl', '’'): 'peopl_’',\n",
       " ('’', 'care'): '’_care',\n",
       " ('#coronaviru', '#covid19'): '#coronaviru_#covid19',\n",
       " ('’', 'know'): '’_know',\n",
       " ('health', 'safeti'): 'health_safeti',\n",
       " ('peopl', 'die'): 'peopl_die',\n",
       " ('post', 'covid'): 'post_covid',\n",
       " ('food', 'tabl'): 'food_tabl',\n",
       " ('take', 'care'): 'take_care',\n",
       " ('death', 'covid'): 'death_covid',\n",
       " ('test', 'covid'): 'test_covid',\n",
       " ('mortal', 'rate'): 'mortal_rate',\n",
       " ('🤣', '🤣'): '🤣_🤣',\n",
       " ('19', 'patient'): '19_patient',\n",
       " ('’', 'want'): '’_want',\n",
       " ('death', 'toll'): 'death_toll',\n",
       " ('handl', 'covid'): 'handl_covid',\n",
       " ('love', 'one'): 'love_one'}"
      ]
     },
     "execution_count": 28,
     "metadata": {},
     "output_type": "execute_result"
    }
   ],
   "source": [
    "bigrams"
   ]
  },
  {
   "cell_type": "markdown",
   "metadata": {},
   "source": [
    "The identified trigrams are:"
   ]
  },
  {
   "cell_type": "code",
   "execution_count": 29,
   "metadata": {},
   "outputs": [
    {
     "data": {
      "text/plain": [
       "{('covid', '19', 'pandem'): 'covid_19_pandem',\n",
       " ('covid', '19', 'case'): 'covid_19_case',\n",
       " ('due', 'covid', '19'): 'due_covid_19',\n",
       " ('covid', '19', 'death'): 'covid_19_death',\n",
       " ('test', 'posit', 'covid'): 'test_posit_covid',\n",
       " ('fight', 'covid', '19'): 'fight_covid_19',\n",
       " ('posit', 'covid', '19'): 'posit_covid_19',\n",
       " ('👩', '🏽', '\\u200d'): '👩_🏽_\\u200d',\n",
       " ('🏽', '\\u200d', '🍳'): '🏽_\\u200d_🍳',\n",
       " ('covid', '19', 'test'): 'covid_19_test',\n",
       " ('\\u200d', '🍳', '👩'): '\\u200d_🍳_👩',\n",
       " ('🍳', '👩', '🏽'): '🍳_👩_🏽',\n",
       " ('die', 'covid', '19'): 'die_covid_19',\n",
       " ('put', 'food', 'tabl'): 'put_food_tabl',\n",
       " ('🙏', '🙏', '🙏'): '🙏_🙏_🙏',\n",
       " ('spread', 'covid', '19'): 'spread_covid_19',\n",
       " ('covid', '19', 'patient'): 'covid_19_patient'}"
      ]
     },
     "execution_count": 29,
     "metadata": {},
     "output_type": "execute_result"
    }
   ],
   "source": [
    "trigrams"
   ]
  },
  {
   "cell_type": "markdown",
   "metadata": {},
   "source": [
    "The following code block defines two functions that will allow us to replace identified bigrams and trigrams with the replacement text."
   ]
  },
  {
   "cell_type": "code",
   "execution_count": 30,
   "metadata": {},
   "outputs": [],
   "source": [
    "def replace_bigrams(text, bigrams_dict):\n",
    "    new_tokens = []\n",
    "    items_to_skip = 0\n",
    "    for index in range(len(text)):\n",
    "        if index < len(text)-1:\n",
    "            if items_to_skip == 0:\n",
    "                current_tuple = (text[index], text[index+1])\n",
    "                if current_tuple in bigrams_dict:\n",
    "                    new_tokens.append(bigrams_dict[current_tuple])\n",
    "                    items_to_skip = 1\n",
    "                else:\n",
    "                    new_tokens.append(text[index])\n",
    "            else:\n",
    "                items_to_skip -=1\n",
    "        else:\n",
    "            if items_to_skip == 0:\n",
    "                new_tokens.append(text[index])\n",
    "                \n",
    "    return new_tokens\n",
    "\n",
    "def replace_trigrams(text, trigrams_dict):\n",
    "    new_tokens = []\n",
    "    items_to_skip = 0\n",
    "    for index in range(len(text)):\n",
    "        if index < len(text)-2:\n",
    "            if items_to_skip == 0:\n",
    "                current_tuple = (text[index], text[index+1], text[index+2])\n",
    "                if current_tuple in trigrams_dict:\n",
    "                    new_tokens.append(trigrams_dict[current_tuple])\n",
    "                    items_to_skip = 2\n",
    "                else:\n",
    "                    new_tokens.append(text[index])\n",
    "            else:\n",
    "                items_to_skip -=1\n",
    "        else:\n",
    "            if items_to_skip == 0:\n",
    "                new_tokens.append(text[index])\n",
    "            else:\n",
    "                items_to_skip -=1\n",
    "    return new_tokens"
   ]
  },
  {
   "cell_type": "markdown",
   "metadata": {},
   "source": [
    "As an example of the `replace_bigrams` function, consider the fourth tweet in our sample. The tokens are printed by the next code block."
   ]
  },
  {
   "cell_type": "code",
   "execution_count": 31,
   "metadata": {},
   "outputs": [
    {
     "name": "stdout",
     "output_type": "stream",
     "text": [
      "['11,237', 'pple', 'discharg', 'covid', '19', 'treat', 'wld', 'safe', 'say', 'nt', 'report', 'case', 'trueli', 'covid', '19', 'bet', 'simpli', 'malaria', 'drug', 'give', 'b4', 'discharg', '9ja', 'dey', 'hail', 'una']\n"
     ]
    }
   ],
   "source": [
    "print(tweet_tokens[3])"
   ]
  },
  {
   "cell_type": "markdown",
   "metadata": {},
   "source": [
    "The tokens after applying the `replace_bigrams` function are printed by the next code block."
   ]
  },
  {
   "cell_type": "code",
   "execution_count": 32,
   "metadata": {},
   "outputs": [
    {
     "name": "stdout",
     "output_type": "stream",
     "text": [
      "['11,237', 'pple', 'discharg', 'covid_19', 'treat', 'wld', 'safe', 'say', 'nt', 'report', 'case', 'trueli', 'covid_19', 'bet', 'simpli', 'malaria', 'drug', 'give', 'b4', 'discharg', '9ja', 'dey', 'hail', 'una']\n"
     ]
    }
   ],
   "source": [
    "print(replace_bigrams(tweet_tokens[3], bigrams))"
   ]
  },
  {
   "cell_type": "markdown",
   "metadata": {},
   "source": [
    "The following code block demonstrates our final data preparation pipeline applied to a sample of 1000 tweets."
   ]
  },
  {
   "cell_type": "code",
   "execution_count": 33,
   "metadata": {},
   "outputs": [
    {
     "name": "stdout",
     "output_type": "stream",
     "text": [
      "Loading data\n",
      "Creating sample\n",
      "Tokenizing, normalizing, lemmatizing, and stemming\n",
      "Finding trigrams\n",
      "Finding bigrams\n",
      "Replacing bigrams and trigrams\n",
      "Text preparation took 12.66 seconds\n"
     ]
    },
    {
     "data": {
      "text/plain": [
       "[('’', 333),\n",
       " ('covid_19', 299),\n",
       " ('food', 280),\n",
       " ('covid', 266),\n",
       " ('peopl', 133),\n",
       " ('u', 103),\n",
       " ('like', 92),\n",
       " ('death', 88),\n",
       " ('help', 76),\n",
       " ('go', 75),\n",
       " ('work', 72),\n",
       " ('time', 71),\n",
       " ('one', 70),\n",
       " ('need', 70),\n",
       " ('test', 64),\n",
       " ('day', 62),\n",
       " ('make', 61),\n",
       " ('think', 57),\n",
       " ('even', 55),\n",
       " ('life', 55),\n",
       " ('pandem', 54),\n",
       " ('still', 53),\n",
       " ('home', 53),\n",
       " ('know', 53),\n",
       " ('case', 51),\n",
       " ('die', 51),\n",
       " ('trump', 50),\n",
       " ('see', 49),\n",
       " ('would', 48),\n",
       " ('health', 47),\n",
       " ('viru', 47),\n",
       " ('#covid19', 47),\n",
       " (':/', 47),\n",
       " ('thing', 46),\n",
       " ('good', 46),\n",
       " ('mani', 45),\n",
       " ('want', 45),\n",
       " ('number', 45),\n",
       " ('new', 45),\n",
       " ('say', 44),\n",
       " ('support', 44),\n",
       " ('patient', 43),\n",
       " ('pleas', 43),\n",
       " ('state', 43),\n",
       " ('give', 41),\n",
       " (\"i'm\", 41),\n",
       " ('come', 41),\n",
       " ('care', 41),\n",
       " ('hospit', 41),\n",
       " ('use', 40)]"
      ]
     },
     "execution_count": 33,
     "metadata": {},
     "output_type": "execute_result"
    }
   ],
   "source": [
    "start_time = time.time()\n",
    "\n",
    "# read raw data\n",
    "print('Loading data')\n",
    "raw_data_filepath = pathlib.Path('relevant_data.json.gz')\n",
    "\n",
    "with gzip.GzipFile(raw_data_filepath, 'r') as fp:\n",
    "    json_bytes = fp.read()\n",
    "    json_str = json_bytes.decode('utf-8')\n",
    "    tweet_data = json.loads(json_str)\n",
    "    \n",
    "# convert to Pandas DataFrame\n",
    "tweet_df = pd.DataFrame(tweet_data, \n",
    "                        columns = column_names)\n",
    "\n",
    "tweet_df['Datetime'] = pd.to_datetime(tweet_df['Datetime'], \n",
    "                                      format = '%a %b %d %H:%M:%S %z %Y')\n",
    "tweet_df['Date'] = tweet_df['Datetime'].dt.date\n",
    "tweet_df['Day_Name'] = tweet_df['Datetime'].dt.day_name()\n",
    "\n",
    "weekend_mask = tweet_df['Day_Name'].isin(['Saturday', 'Sunday'])\n",
    "tweet_df.loc[weekend_mask, 'Weekend'] = True\n",
    "tweet_df.loc[~weekend_mask, 'Weekend'] = True\n",
    "\n",
    "tweet_df['Hour'] = tweet_df['Datetime'].dt.hour\n",
    "    \n",
    "# get sample\n",
    "print('Creating sample')\n",
    "np.random.seed(0)\n",
    "sample_size = 1000\n",
    "sample = np.random.choice(tweet_df['Text'].tolist(), \n",
    "                          size = sample_size,\n",
    "                          replace = False,\n",
    "                         )\n",
    "sample = sample.tolist()\n",
    "column_names = [\n",
    "    'Datetime',\n",
    "    'Username',\n",
    "    'User',\n",
    "    'Location',\n",
    "    'Language',\n",
    "    'Text',\n",
    "]\n",
    "\n",
    "# prepare tweets\n",
    "print('Tokenizing, normalizing, lemmatizing, and stemming')\n",
    "tweet_tokens = prepare_texts(sample)\n",
    "    \n",
    "threshold = 50\n",
    "\n",
    "print('Finding trigrams')\n",
    "trigram_finder = nltk.collocations.TrigramCollocationFinder.from_documents(tweet_tokens)\n",
    "trigram_finder.apply_freq_filter(threshold)\n",
    "trigrams = {trigram: '_'.join(trigram) for trigram in trigram_finder.ngram_fd}\n",
    "\n",
    "print('Finding bigrams')\n",
    "bigram_finder = nltk.collocations.BigramCollocationFinder.from_documents(tweet_tokens)\n",
    "bigram_finder.apply_freq_filter(threshold)\n",
    "bigrams = {bigram: '_'.join(bigram) for bigram in bigram_finder.ngram_fd}\n",
    "\n",
    "print('Replacing bigrams and trigrams')\n",
    "for current_index, current_tweet in enumerate(tweet_tokens):\n",
    "    tweet_tokens[current_index] = replace_trigrams(current_tweet, trigrams)\n",
    "    tweet_tokens[current_index] = replace_bigrams(current_tweet, bigrams)\n",
    "\n",
    "all_tokens = list(itertools.chain.from_iterable(tweet_tokens))\n",
    "freq_dist = nltk.FreqDist(all_tokens)\n",
    "\n",
    "end_time = time.time()\n",
    "elapsed_time = round(end_time - start_time, 2)\n",
    "print(f'Text preparation took {elapsed_time} seconds')\n",
    "\n",
    "freq_dist.most_common(50)"
   ]
  },
  {
   "cell_type": "markdown",
   "metadata": {},
   "source": [
    "The following code block uses `matplotlib` to plot the frequence of the top 50 most common tokens."
   ]
  },
  {
   "cell_type": "code",
   "execution_count": 34,
   "metadata": {},
   "outputs": [
    {
     "data": {
      "image/png": "[encoded data removed]",
      "text/plain": [
       "<Figure size 1296x432 with 1 Axes>"
      ]
     },
     "metadata": {
      "needs_background": "light"
     },
     "output_type": "display_data"
    }
   ],
   "source": [
    "freq_list = freq_dist.most_common(50)\n",
    "\n",
    "x = [tup[0] for tup in freq_list]\n",
    "y = [tup[1] for tup in freq_list]\n",
    "\n",
    "fig, ax = plt.subplots(1, 1, figsize = (18, 6))\n",
    "\n",
    "sns.barplot(\n",
    "    x = x,\n",
    "    y = y,\n",
    "    edgecolor = 'k',\n",
    ")\n",
    "\n",
    "ax.set_xticklabels(ax.get_xticklabels(), rotation = 45, ha = 'right')\n",
    "\n",
    "plt.show()"
   ]
  },
  {
   "cell_type": "markdown",
   "metadata": {},
   "source": [
    "As you would suspect, the time required to complete the processing pipeline we have developed will depend on the type of texts and the number of texts we process. The following code bock shows how we can save the tokenized texts in the same format as the original data (JSON with GZIP compression). After execution, you will have a new file named `processed_tokens.json.gz` in the current directory that contains the processed texts in a list of lists."
   ]
  },
  {
   "cell_type": "code",
   "execution_count": 35,
   "metadata": {},
   "outputs": [],
   "source": [
    "# create Path object for file path\n",
    "processed_tokens_path = pathlib.Path('processed_tokens.json.gz')\n",
    "\n",
    "# \"dump\" the list of tokens to a JSON string\n",
    "temp = json.dumps(tweet_tokens) + '\\n' \n",
    "\n",
    "# encode the JSON string to bytes\n",
    "json_bytes = json_str.encode('utf-8')\n",
    "\n",
    "# open a GZIP file at the specified path\n",
    "with gzip.GzipFile(processed_tokens_path, 'w') as fout:\n",
    "    \n",
    "    # write the bytes to the file object\n",
    "    fout.write(json_bytes)    "
   ]
  }
 ],
 "metadata": {
  "kernelspec": {
   "display_name": "Python 3",
   "language": "python",
   "name": "python3"
  },
  "language_info": {
   "codemirror_mode": {
    "name": "ipython",
    "version": 3
   },
   "file_extension": ".py",
   "mimetype": "text/x-python",
   "name": "python",
   "nbconvert_exporter": "python",
   "pygments_lexer": "ipython3",
   "version": "3.7.7"
  }
 },
 "nbformat": 4,
 "nbformat_minor": 4
}
