{
 "cells": [
  {
   "cell_type": "markdown",
   "metadata": {},
   "source": [
    "# NLP Crash Course - Part 2: Topic Modeling\n",
    "Prepared by: Nickolas Freeman, PhD\n",
    "\n",
    "In this notebook, we will look at how we can use the tokenized tweets we prepared in the *Part 1* notebook to construct topic models. From https://en.wikipedia.org/wiki/Natural_language_processing:\n",
    "> In machine learning and natural language processing, a topic model is a type of statistical model for discovering the abstract \"topics\" that occur in a collection of documents. Topic modeling is a frequently used text-mining tool for discovery of hidden semantic structures in a text body. Intuitively, given that a document is about a particular topic, one would expect particular words to appear in the document more or less frequently: \"dog\" and \"bone\" will appear more often in documents about dogs, \"cat\" and \"meow\" will appear in documents about cats, and \"the\" and \"is\" will appear approximately equally in both. A document typically concerns multiple topics in different proportions; thus, in a document that is 10% about cats and 90% about dogs, there would probably be about 9 times more dog words than cat words. The \"topics\" produced by topic modeling techniques are clusters of similar words. A topic model captures this intuition in a mathematical framework, which allows examining a set of documents and discovering, based on the statistics of the words in each, what the topics might be and what each document's balance of topics is.\n",
    "\n",
    "We will use the `gensim` library for our topic modeling analysis. More information about Gensim can be found at the project's website (https://radimrehurek.com/gensim/).\n",
    "\n",
    "The following code block imports the libraries we will use."
   ]
  },
  {
   "cell_type": "code",
   "execution_count": 1,
   "metadata": {},
   "outputs": [],
   "source": [
    "# Libraries that are part of the Python standard library\n",
    "import gzip\n",
    "import itertools\n",
    "import json\n",
    "import pathlib\n",
    "import time\n",
    "\n",
    "# Third-party packages\n",
    "from ipywidgets import interact\n",
    "import gensim\n",
    "import matplotlib.pyplot as plt\n",
    "import pandas as pd\n",
    "import pyLDAvis\n",
    "import pyLDAvis.gensim\n",
    "import seaborn as sns\n",
    "sns.set_style('whitegrid')\n",
    "import statsmodels.api as sm\n",
    "import statsmodels.formula.api as smf"
   ]
  },
  {
   "cell_type": "markdown",
   "metadata": {},
   "source": [
    "Natural language processing has received a lot of attention in recent years. This attention has resulted in several techniques being developed for detecting the sentiment of texts (senitment analysis), identifying core topics in text (topic modeling), predicting the author of texts (author attribution), translation, and generating text (generative models). The field is very broad and evolving rapidly. In this notebook, we will look at a popular technique for topic modeling, *Latent Dirichlet Allocation*. The purpose of this notebook is not to be a comprehensive reference for the technique, but instead it is intended to give you an example of how you may go about exploring a new model that you are considering for an analysis.\n",
    "\n",
    "## Latent Dirichlet Distribution (LDA) Overview\n",
    "The Latent Dirichlet Allocation was introduced in the paper:\n",
    "> Blei, D. M., Ng, A. Y., & Jordan, M. I. (2003). Latent dirichlet allocation. Journal of machine Learning research, 3(Jan), 993-1022.\n",
    "\n",
    "At the time of writing (8/31/2020), Google Scholar reports over 30,000 citations for the paper. Before we dive into the technique, let's look at the definitions for the terms that make up its name.\n",
    "\n",
    "The term *latent* is defined as:\n",
    "- [adjective] (of a quality or state) existing but not yet developed or manifest; hidden or concealed.\n",
    "\n",
    "From https://en.wikipedia.org/wiki/Dirichlet_process:\n",
    "> In probability theory, Dirichlet processes (after Peter Gustav Lejeune Dirichlet) are a family of stochastic processes whose realizations are probability distributions. In other words, a Dirichlet process is a probability distribution whose range is itself a set of probability distributions.\n",
    "The term latent is defined as:\n",
    "\n",
    "The term *allocation* is defined as:\n",
    "- [noun] the action or process of allocating or distributing something.\n",
    "\n",
    "\n",
    "**The core assumption of LDA is that documents are a collection of words that are associated with topics. However, when we see a document, we don't necessarily get topic labels. Instead, we have collections of words that are indicitive of a topic. The goal of the method is to determine the *latent* topics that are associated with words. A key thing to note is that a single word may be associated with different topics, e.g., we may use the word course to refer to a compnent of an educational curriculum or a sequence of road segments traversed during a race. LDA utilizes dirichlet distributions to learn the distributions of words that are related to a topic.** The following image illustrates the assumption of latent topics in LDA (image originally copied from https://miro.medium.com/max/2504/1*LsTAeih16RXl4VSZO_Hhag.png).\n",
    "<img src=\"lda_ex_images/latent_topics.png\" alt=\"Drawing\" style=\"width: 800px; height: 300px\"/>\n",
    "\n",
    "The following figure (image originally copied from https://thatware.co/topic-modelling/) provides a high-level overview of the LDA model proposed by Blei, Ng, and Jordan. As is true for many models that you will encounter, the underlying model is based on sophisticated mathematical and statistical ideas. Sometimes it is necessary to understand all of these details. However, many such techniques are implemented in commercial and open-source products. To use these implementations, you do need to have an overall idea of what the method aims to achieve and the parameters that influence the method, but it will not be possible for you to understand every approach in great depth.\n",
    "<img src=\"lda_ex_images/lda_model.png\" alt=\"Drawing\" style=\"width: 800px; height: 400px\"/>\n",
    "\n",
    "(image from https://towardsdatascience.com/light-on-math-machine-learning-intuitive-guide-to-latent-dirichlet-allocation-437c81220158)\n",
    "\n",
    "As an example, one of the influential parameters for LDA is the $\\alpha$ parameter, which controls the dirichlet process dictating the expected number of topics in a document. This parameter is actually a $K$-dimensional vector, where $K$ is the number of topics. The following image (image originally copied from https://towardsdatascience.com/light-on-math-machine-learning-intuitive-guide-to-latent-dirichlet-allocation-437c81220158) shows how dirichlet distribution changes as a function of $\\alpha$. In LDA, each *point* in the support of the distribution would represent a topic.\n",
    "<img src=\"lda_ex_images/dirichlet_distributions.png\" alt=\"Drawing\" style=\"width: 600px; height: 400px\"/>\n",
    "\n",
    "The following cell links to a YouTube video that provides a good overview of the LDA *machine*."
   ]
  },
  {
   "cell_type": "code",
   "execution_count": 2,
   "metadata": {},
   "outputs": [
    {
     "data": {
      "image/jpeg": "[encoded data removed]",
      "text/html": [
       "\n",
       "        <iframe\n",
       "            width=\"600\"\n",
       "            height=\"400\"\n",
       "            src=\"https://www.youtube.com/embed/T05t-SqKArY\"\n",
       "            frameborder=\"0\"\n",
       "            allowfullscreen\n",
       "        ></iframe>\n",
       "        "
      ],
      "text/plain": [
       "<IPython.lib.display.YouTubeVideo at 0x23b50b587c8>"
      ]
     },
     "execution_count": 2,
     "metadata": {},
     "output_type": "execute_result"
    }
   ],
   "source": [
    "from IPython.display import YouTubeVideo\n",
    "\n",
    "YouTubeVideo('T05t-SqKArY', width=600, height=400)"
   ]
  },
  {
   "cell_type": "markdown",
   "metadata": {},
   "source": [
    "The following code block defines a simple helper function that we will use to print status messages."
   ]
  },
  {
   "cell_type": "code",
   "execution_count": 3,
   "metadata": {},
   "outputs": [],
   "source": [
    "def print_status(message, start_timestamp, width = 60):\n",
    "    \n",
    "    elapsed_time = round(time.time() - start_timestamp, 2)\n",
    "    print(f'{message} (elapsed time: {elapsed_time} seconds)')\n",
    "    print('-'*width)"
   ]
  },
  {
   "cell_type": "markdown",
   "metadata": {},
   "source": [
    "The following code block reads the tweet tokens that we processed in the *Part 1* notebook. The data we prepared included the tokens for 50,000 tweets. To speed up our initial demonstrations, we will only keep 5,000 tweets."
   ]
  },
  {
   "cell_type": "code",
   "execution_count": 4,
   "metadata": {},
   "outputs": [
    {
     "name": "stdout",
     "output_type": "stream",
     "text": [
      "The data includes 5000 observations.\n"
     ]
    }
   ],
   "source": [
    "# create a pathlib.Path object for the data\n",
    "texts_path = pathlib.Path('processed_tokens.json.gz')\n",
    "\n",
    "# open the data filepath\n",
    "with gzip.GzipFile(texts_path, 'r') as fp:\n",
    "    \n",
    "    # read the bytes from the datafile\n",
    "    json_bytes = fp.read()\n",
    "    \n",
    "    # decode the bytes to utf-8\n",
    "    json_str = json_bytes.decode('utf-8')\n",
    "    \n",
    "    # load the decoded bytes as JSON\n",
    "    texts = json.loads(json_str)\n",
    "    \n",
    "texts = texts[:5000]\n",
    "    \n",
    "print(f'The data includes {len(texts)} observations.')"
   ]
  },
  {
   "cell_type": "markdown",
   "metadata": {},
   "source": [
    "LDA, and most other algorithms you will encounter, work with numeric data. Thus, we need to a numerical representation for our tweet tokens. We will use a *bag-of-words (BOW)* representation. From https://en.wikipedia.org/wiki/Bag-of-words_model:\n",
    ">The bag-of-words model is a simplifying representation used in natural language processing and information retrieval (IR). In this model, a text (such as a sentence or a document) is represented as the bag (multiset) of its words, disregarding grammar and even word order but keeping multiplicity. The bag-of-words model has also been used for computer vision.\n",
    ">\n",
    ">The bag-of-words model is commonly used in methods of document classification where the (frequency of) occurrence of each word is used as a feature for training a classifier.\n",
    ">\n",
    ">An early reference to \"bag of words\" in a linguistic context can be found in Zellig Harris's 1954 article on Distributional Structure.\n",
    "\n",
    "The first step in this process is assigning a unique integer ID to each token in our corpus. The following code block shows how this can be achieved using `gensim`."
   ]
  },
  {
   "cell_type": "code",
   "execution_count": 5,
   "metadata": {},
   "outputs": [],
   "source": [
    "id2word = gensim.corpora.Dictionary(texts)"
   ]
  },
  {
   "cell_type": "markdown",
   "metadata": {},
   "source": [
    "The following code block shows how we can use the created `id2word` object to see the representation for a particular tweet."
   ]
  },
  {
   "cell_type": "code",
   "execution_count": 6,
   "metadata": {},
   "outputs": [
    {
     "name": "stdout",
     "output_type": "stream",
     "text": [
      "Our tweet tokens are:\n",
      "['@peterpsquar', 'bro', 'send', 'sinc', 'two_day', 'im', 'stuck', 'school_run', 'cash_food', 'hope', 'im', 'lucki', 'today_god', 'continu_bless', '🙏_🙏', '🙏_🙏', '🙏_🙏', 'emeka', 'ugwunnaaccess', 'diamond', '00843395', '87'] \n",
      "\n",
      "Word \"@peterpsquar\" is saved as 3972 and occurs in 1 document(s).\n",
      "Word \"bro\" is saved as 2074 and occurs in 16 document(s).\n",
      "Word \"send\" is saved as 463 and occurs in 27 document(s).\n",
      "Word \"sinc\" is saved as 1011 and occurs in 45 document(s).\n",
      "Word \"two_day\" is saved as 3980 and occurs in 3 document(s).\n",
      "Word \"im\" is saved as 1342 and occurs in 14 document(s).\n",
      "Word \"stuck\" is saved as 3978 and occurs in 6 document(s).\n",
      "Word \"school_run\" is saved as 3977 and occurs in 1 document(s).\n",
      "Word \"cash_food\" is saved as 3973 and occurs in 1 document(s).\n",
      "Word \"hope\" is saved as 2018 and occurs in 58 document(s).\n",
      "Word \"im\" is saved as 1342 and occurs in 14 document(s).\n",
      "Word \"lucki\" is saved as 3403 and occurs in 9 document(s).\n",
      "Word \"today_god\" is saved as 3979 and occurs in 1 document(s).\n",
      "Word \"continu_bless\" is saved as 3974 and occurs in 1 document(s).\n",
      "Word \"🙏_🙏\" is saved as 3982 and occurs in 7 document(s).\n",
      "Word \"🙏_🙏\" is saved as 3982 and occurs in 7 document(s).\n",
      "Word \"🙏_🙏\" is saved as 3982 and occurs in 7 document(s).\n",
      "Word \"emeka\" is saved as 3976 and occurs in 1 document(s).\n",
      "Word \"ugwunnaaccess\" is saved as 3981 and occurs in 1 document(s).\n",
      "Word \"diamond\" is saved as 3975 and occurs in 3 document(s).\n",
      "Word \"00843395\" is saved as 3970 and occurs in 1 document(s).\n",
      "Word \"87\" is saved as 3971 and occurs in 3 document(s).\n",
      "\n",
      "In total, the id2word mapping accounts for 37917 tokens.\n"
     ]
    }
   ],
   "source": [
    "current_tweet = 300\n",
    "print(f'Our tweet tokens are:')\n",
    "print(texts[current_tweet], '\\n')\n",
    "\n",
    "for word in texts[current_tweet]:\n",
    "    word_id = id2word.token2id[word]\n",
    "    num_documents = id2word.dfs[word_id]\n",
    "    print(f'Word \"{word}\" is saved as {word_id} and occurs in {num_documents} document(s).')\n",
    "    \n",
    "print(f'\\nIn total, the id2word mapping accounts for {len(id2word.token2id)} tokens.')"
   ]
  },
  {
   "cell_type": "markdown",
   "metadata": {},
   "source": [
    "The LDA technique is essentially an unsupervised machine learning technique that clusters words into groups (topics) and iteratively goes through the corpus improving word-to-group assignments. The algorithm may struggle to classify words that appear too frequently. Thus, `gensim` includes a `filter_extremes` method that we can use to restrict the words that are considered."
   ]
  },
  {
   "cell_type": "code",
   "execution_count": 7,
   "metadata": {},
   "outputs": [
    {
     "name": "stdout",
     "output_type": "stream",
     "text": [
      "After filtering, the id2word mapping accounts for 9411 tokens.\n"
     ]
    }
   ],
   "source": [
    "id2word.filter_extremes(no_below = 2, \n",
    "                        no_above = 0.1)\n",
    "\n",
    "print(f'After filtering, the id2word mapping accounts for {len(id2word.token2id)} tokens.')"
   ]
  },
  {
   "cell_type": "markdown",
   "metadata": {},
   "source": [
    "The following code block prints our example again after filtering the extreme values."
   ]
  },
  {
   "cell_type": "code",
   "execution_count": 8,
   "metadata": {},
   "outputs": [
    {
     "name": "stdout",
     "output_type": "stream",
     "text": [
      "Our tweet tokens are:\n",
      "['@peterpsquar', 'bro', 'send', 'sinc', 'two_day', 'im', 'stuck', 'school_run', 'cash_food', 'hope', 'im', 'lucki', 'today_god', 'continu_bless', '🙏_🙏', '🙏_🙏', '🙏_🙏', 'emeka', 'ugwunnaaccess', 'diamond', '00843395', '87'] \n",
      "\n",
      "\"@peterpsquar\" is not in id2word object.\n",
      "Word \"bro\" is saved as 1331 and occurs in 16 documents.\n",
      "Word \"send\" is saved as 337 and occurs in 27 documents.\n",
      "Word \"sinc\" is saved as 689 and occurs in 45 documents.\n",
      "Word \"two_day\" is saved as 2345 and occurs in 3 documents.\n",
      "Word \"im\" is saved as 894 and occurs in 14 documents.\n",
      "Word \"stuck\" is saved as 2344 and occurs in 6 documents.\n",
      "\"school_run\" is not in id2word object.\n",
      "\"cash_food\" is not in id2word object.\n",
      "Word \"hope\" is saved as 1291 and occurs in 58 documents.\n",
      "Word \"im\" is saved as 894 and occurs in 14 documents.\n",
      "Word \"lucki\" is saved as 2077 and occurs in 9 documents.\n",
      "\"today_god\" is not in id2word object.\n",
      "\"continu_bless\" is not in id2word object.\n",
      "Word \"🙏_🙏\" is saved as 2346 and occurs in 7 documents.\n",
      "Word \"🙏_🙏\" is saved as 2346 and occurs in 7 documents.\n",
      "Word \"🙏_🙏\" is saved as 2346 and occurs in 7 documents.\n",
      "\"emeka\" is not in id2word object.\n",
      "\"ugwunnaaccess\" is not in id2word object.\n",
      "Word \"diamond\" is saved as 2343 and occurs in 3 documents.\n",
      "\"00843395\" is not in id2word object.\n",
      "Word \"87\" is saved as 2342 and occurs in 3 documents.\n",
      "\n",
      "In total, the id2word mapping accounts for 9411 tokens.\n"
     ]
    }
   ],
   "source": [
    "print(f'Our tweet tokens are:')\n",
    "print(texts[current_tweet], '\\n')\n",
    "\n",
    "for word in texts[current_tweet]:\n",
    "    if word in id2word.token2id:\n",
    "        word_id = id2word.token2id[word]\n",
    "        num_documents = id2word.dfs[word_id]\n",
    "        print(f'Word \"{word}\" is saved as {word_id} and occurs in {num_documents} documents.')\n",
    "    else:\n",
    "        print(f'\"{word}\" is not in id2word object.')\n",
    "    \n",
    "print(f'\\nIn total, the id2word mapping accounts for {len(id2word.token2id)} tokens.')"
   ]
  },
  {
   "cell_type": "markdown",
   "metadata": {},
   "source": [
    "We can use the `doc2bow` method of our `id2word` object to get a numerical (BOW) representation for our corpus of tweets."
   ]
  },
  {
   "cell_type": "code",
   "execution_count": 9,
   "metadata": {},
   "outputs": [
    {
     "data": {
      "text/plain": [
       "[(337, 1),\n",
       " (689, 1),\n",
       " (894, 2),\n",
       " (1291, 1),\n",
       " (1331, 1),\n",
       " (2077, 1),\n",
       " (2342, 1),\n",
       " (2343, 1),\n",
       " (2344, 1),\n",
       " (2345, 1),\n",
       " (2346, 3)]"
      ]
     },
     "execution_count": 9,
     "metadata": {},
     "output_type": "execute_result"
    }
   ],
   "source": [
    "corpus = [id2word.doc2bow(text) for text in texts]\n",
    "corpus[current_tweet]"
   ]
  },
  {
   "cell_type": "markdown",
   "metadata": {},
   "source": [
    "Using our `id2word` and `corpus` objects, it is simple to use `gensim`'s default LDA implementation"
   ]
  },
  {
   "cell_type": "code",
   "execution_count": 10,
   "metadata": {},
   "outputs": [],
   "source": [
    "lda_model = gensim.models.ldamulticore.LdaMulticore(corpus = corpus,\n",
    "                                                    id2word = id2word,\n",
    "                                                    random_state = 0)"
   ]
  },
  {
   "cell_type": "markdown",
   "metadata": {},
   "source": [
    "We can get a sense of the quality of the model by looking at it's *coherence*. There are several coherence measures implemented in `gensim`. By default, `gensim` uses the $c_{v}$ coherences model. Although there are many more details, the $c_{v}$ measure essentially looks at the words that are grouped together in a topic and computes the probability of these words co-occuring given the provided corpus and texts. **Could we do better here?**"
   ]
  },
  {
   "cell_type": "code",
   "execution_count": 11,
   "metadata": {},
   "outputs": [
    {
     "name": "stdout",
     "output_type": "stream",
     "text": [
      "Coherence is 0.5970828533291048\n"
     ]
    }
   ],
   "source": [
    "cm = gensim.models.coherencemodel.CoherenceModel(model = lda_model, corpus = corpus, texts = texts)\n",
    "coherence_score = cm.get_coherence()\n",
    "print(f'Coherence is {coherence_score}')"
   ]
  },
  {
   "cell_type": "markdown",
   "metadata": {},
   "source": [
    "The following code block uses the `pyLDAvis` library to generate an interavtive visualization for our topic model."
   ]
  },
  {
   "cell_type": "code",
   "execution_count": 12,
   "metadata": {},
   "outputs": [],
   "source": [
    "pyLDAvis_model = pyLDAvis.gensim.prepare(lda_model, \n",
    "                                         corpus, \n",
    "                                         id2word, \n",
    "                                         sort_topics=False) \n",
    "\n",
    "pyLDAvis.save_html(pyLDAvis_model,\n",
    "                   'example_vis.html')"
   ]
  },
  {
   "cell_type": "markdown",
   "metadata": {},
   "source": [
    "The following code block changes some of the default parameters to determine a different model."
   ]
  },
  {
   "cell_type": "code",
   "execution_count": 13,
   "metadata": {},
   "outputs": [
    {
     "name": "stdout",
     "output_type": "stream",
     "text": [
      "Fitting LDA model (elapsed time: 0.0 seconds)\n",
      "------------------------------------------------------------\n",
      "Getting coherence (elapsed time: 28.26 seconds)\n",
      "------------------------------------------------------------\n",
      "Coherence = 0.4912077859784992 (elapsed time: 38.72 seconds)\n",
      "------------------------------------------------------------\n",
      "Preparing pyLDAvis_model (elapsed time: 38.72 seconds)\n",
      "------------------------------------------------------------\n",
      "Saving pyLDAvis visualization (elapsed time: 45.87 seconds)\n",
      "------------------------------------------------------------\n"
     ]
    }
   ],
   "source": [
    "start_time = time.time()\n",
    "\n",
    "print_status('Fitting LDA model', start_time)\n",
    "lda_model = gensim.models.ldamulticore.LdaMulticore(corpus = corpus,\n",
    "                                                    id2word = id2word,\n",
    "                                                    num_topics = 20,\n",
    "                                                    alpha = 'asymmetric',\n",
    "                                                    passes = 30,\n",
    "                                                    random_state = 0)\n",
    "\n",
    "print_status('Getting coherence', start_time)\n",
    "cm = gensim.models.coherencemodel.CoherenceModel(model = lda_model, corpus = corpus, texts = texts)\n",
    "coherence_score = cm.get_coherence()\n",
    "print_status(f'Coherence = {coherence_score}', start_time)\n",
    "\n",
    "print_status(f'Preparing pyLDAvis_model', start_time)\n",
    "pyLDAvis_model = pyLDAvis.gensim.prepare(lda_model, \n",
    "                                         corpus, \n",
    "                                         id2word, \n",
    "                                         sort_topics=False) \n",
    "\n",
    "print_status(f'Saving pyLDAvis visualization', start_time)\n",
    "pyLDAvis.save_html(pyLDAvis_model,\n",
    "                   'example_vis2.html')"
   ]
  },
  {
   "cell_type": "markdown",
   "metadata": {},
   "source": [
    "We can get the topics associated with a particular text by passing our BOW representation of the tweet to `get_document_topics` method of out `lda_model` object."
   ]
  },
  {
   "cell_type": "code",
   "execution_count": 14,
   "metadata": {},
   "outputs": [
    {
     "data": {
      "text/plain": [
       "[(12, 0.93556577)]"
      ]
     },
     "execution_count": 14,
     "metadata": {},
     "output_type": "execute_result"
    }
   ],
   "source": [
    "lda_model.get_document_topics(corpus[300])"
   ]
  },
  {
   "cell_type": "code",
   "execution_count": 15,
   "metadata": {},
   "outputs": [
    {
     "data": {
      "text/plain": [
       "[(0, 0.015590419), (1, 0.887626), (2, 0.010768962)]"
      ]
     },
     "execution_count": 15,
     "metadata": {},
     "output_type": "execute_result"
    }
   ],
   "source": [
    "lda_model.get_document_topics(corpus[200])"
   ]
  },
  {
   "cell_type": "markdown",
   "metadata": {},
   "source": [
    "## Parameter Experiment\n",
    "\n",
    "The two topic models that we have fit so far were not all that informative. A primary reason for this is that we did not use a very large number of tweets as a corpus. In general, the more data you provide, the better your results can be. However, as you increase the size of your corpus, the computational time reguired to execute the LDA algorithm also increases and it becomes more difficult to perform ad-hoc parameter tuning. In such cases, it makes sense to design an experiment. The following code block shows how we can define an experimtal design that will allow us to observe the changes in multiple parameters. **Note that in this experiment, I am using two different data files that have been prepared using different data preparation pipelines. Both data files are based on 100,000 tweets. They were generated using the last code block in the *Part 1* notebook.**"
   ]
  },
  {
   "cell_type": "code",
   "execution_count": 16,
   "metadata": {},
   "outputs": [
    {
     "data": {
      "text/html": [
       "<div>\n",
       "<style scoped>\n",
       "    .dataframe tbody tr th:only-of-type {\n",
       "        vertical-align: middle;\n",
       "    }\n",
       "\n",
       "    .dataframe tbody tr th {\n",
       "        vertical-align: top;\n",
       "    }\n",
       "\n",
       "    .dataframe thead th {\n",
       "        text-align: right;\n",
       "    }\n",
       "</style>\n",
       "<table border=\"1\" class=\"dataframe\">\n",
       "  <thead>\n",
       "    <tr style=\"text-align: right;\">\n",
       "      <th></th>\n",
       "      <th>data_filepath</th>\n",
       "      <th>topics</th>\n",
       "      <th>alpha</th>\n",
       "      <th>eta</th>\n",
       "      <th>iterations</th>\n",
       "      <th>passes</th>\n",
       "      <th>decay</th>\n",
       "    </tr>\n",
       "  </thead>\n",
       "  <tbody>\n",
       "    <tr>\n",
       "      <th>0</th>\n",
       "      <td>data\\mwe_lemmas_stems_nopunct_nostopw_bigram_t...</td>\n",
       "      <td>10</td>\n",
       "      <td>symmetric</td>\n",
       "      <td>auto</td>\n",
       "      <td>50</td>\n",
       "      <td>1</td>\n",
       "      <td>0.50</td>\n",
       "    </tr>\n",
       "    <tr>\n",
       "      <th>1</th>\n",
       "      <td>data\\mwe_lemmas_stems_nopunct_nostopw_bigram_t...</td>\n",
       "      <td>10</td>\n",
       "      <td>symmetric</td>\n",
       "      <td>auto</td>\n",
       "      <td>50</td>\n",
       "      <td>1</td>\n",
       "      <td>0.99</td>\n",
       "    </tr>\n",
       "    <tr>\n",
       "      <th>2</th>\n",
       "      <td>data\\mwe_lemmas_stems_nopunct_nostopw_bigram_t...</td>\n",
       "      <td>10</td>\n",
       "      <td>symmetric</td>\n",
       "      <td>auto</td>\n",
       "      <td>50</td>\n",
       "      <td>10</td>\n",
       "      <td>0.50</td>\n",
       "    </tr>\n",
       "    <tr>\n",
       "      <th>3</th>\n",
       "      <td>data\\mwe_lemmas_stems_nopunct_nostopw_bigram_t...</td>\n",
       "      <td>10</td>\n",
       "      <td>symmetric</td>\n",
       "      <td>auto</td>\n",
       "      <td>50</td>\n",
       "      <td>10</td>\n",
       "      <td>0.99</td>\n",
       "    </tr>\n",
       "    <tr>\n",
       "      <th>4</th>\n",
       "      <td>data\\mwe_lemmas_stems_nopunct_nostopw_bigram_t...</td>\n",
       "      <td>10</td>\n",
       "      <td>symmetric</td>\n",
       "      <td>auto</td>\n",
       "      <td>100</td>\n",
       "      <td>1</td>\n",
       "      <td>0.50</td>\n",
       "    </tr>\n",
       "  </tbody>\n",
       "</table>\n",
       "</div>"
      ],
      "text/plain": [
       "                                       data_filepath  topics      alpha   eta  \\\n",
       "0  data\\mwe_lemmas_stems_nopunct_nostopw_bigram_t...      10  symmetric  auto   \n",
       "1  data\\mwe_lemmas_stems_nopunct_nostopw_bigram_t...      10  symmetric  auto   \n",
       "2  data\\mwe_lemmas_stems_nopunct_nostopw_bigram_t...      10  symmetric  auto   \n",
       "3  data\\mwe_lemmas_stems_nopunct_nostopw_bigram_t...      10  symmetric  auto   \n",
       "4  data\\mwe_lemmas_stems_nopunct_nostopw_bigram_t...      10  symmetric  auto   \n",
       "\n",
       "   iterations  passes  decay  \n",
       "0          50       1   0.50  \n",
       "1          50       1   0.99  \n",
       "2          50      10   0.50  \n",
       "3          50      10   0.99  \n",
       "4         100       1   0.50  "
      ]
     },
     "execution_count": 16,
     "metadata": {},
     "output_type": "execute_result"
    }
   ],
   "source": [
    "experimental_design_spec = {\n",
    "    'data_files': [pathlib.Path('data', 'mwe_lemmas_stems_nopunct_nostopw_bigram_trigram.json.gz'),\n",
    "                   pathlib.Path('data', 'base.json.gz')],\n",
    "    'topics': [10, 30],\n",
    "    'alpha': ['symmetric', 'asymmetric', 0.001, 0.01],\n",
    "    'eta': ['auto', 0.001, 0.01],\n",
    "    'iterations': [50, 100],\n",
    "    'passes': [1, 10],     \n",
    "    'decay': [0.5, 0.99],\n",
    "}\n",
    "\n",
    "experimental_design_settings = list(itertools.product(\n",
    "    experimental_design_spec['data_files'],\n",
    "    experimental_design_spec['topics'], \n",
    "    experimental_design_spec['alpha'], \n",
    "    experimental_design_spec['eta'],\n",
    "    experimental_design_spec['iterations'],\n",
    "    experimental_design_spec['passes'],\n",
    "    experimental_design_spec['decay'],\n",
    "))\n",
    "\n",
    "column_names = [\n",
    "    'data_filepath',\n",
    "    'topics',\n",
    "    'alpha',\n",
    "    'eta',\n",
    "    'iterations',\n",
    "    'passes',\n",
    "    'decay',\n",
    "]\n",
    "\n",
    "experimental_design = pd.DataFrame(experimental_design_settings, \n",
    "                                   columns = column_names)\n",
    "\n",
    "experimental_design.head()"
   ]
  },
  {
   "cell_type": "markdown",
   "metadata": {},
   "source": [
    "For the sake of time, I pre-ran the experiment using the following code block. To run the experiment, you can set the value of the `run_experiment` variable to `True`. **I do not advice attempting to run the experiment. It will take a very long time!**"
   ]
  },
  {
   "cell_type": "code",
   "execution_count": 17,
   "metadata": {},
   "outputs": [],
   "source": [
    "run_experiment = False\n",
    "\n",
    "if run_experiment:\n",
    "    start_time = time.time()\n",
    "    \n",
    "    print_status('Defining experimental design', start_time)\n",
    "    \n",
    "    experimental_design_spec = {\n",
    "        'data_files': [pathlib.Path('data', 'mwe_lemmas_stems_nopunct_nostopw_bigram_trigram.json.gz'),\n",
    "                       pathlib.Path('data', 'base.json.gz')],\n",
    "        'topics': [10, 30],\n",
    "        'alpha': ['symmetric', 'asymmetric', 0.001, 0.01],\n",
    "        'eta': ['auto', 0.001, 0.01],\n",
    "        'iterations': [50, 100],\n",
    "        'passes': [1, 10],     \n",
    "        'decay': [0.5, 0.99],\n",
    "    }\n",
    "\n",
    "    experimental_design_settings = list(itertools.product(\n",
    "        experimental_design_spec['data_files'],\n",
    "        experimental_design_spec['topics'], \n",
    "        experimental_design_spec['alpha'], \n",
    "        experimental_design_spec['eta'],\n",
    "        experimental_design_spec['iterations'],\n",
    "        experimental_design_spec['passes'],\n",
    "        experimental_design_spec['decay'],\n",
    "    ))\n",
    "\n",
    "    column_names = [\n",
    "        'data_filepath',\n",
    "        'topics',\n",
    "        'alpha',\n",
    "        'eta',\n",
    "        'iterations',\n",
    "        'passes',\n",
    "        'decay',\n",
    "    ]\n",
    "\n",
    "    experimental_design = pd.DataFrame(experimental_design_settings, \n",
    "                                       columns = column_names)\n",
    "\n",
    "    experimental_design = experimental_design.to_dict(orient = 'index')\n",
    "\n",
    "    print_status('Checking for directories', start_time)\n",
    "    necessary_directories = ['vis_files']\n",
    "    for directory in necessary_directories:\n",
    "        if not pathlib.Path(directory).exists():\n",
    "            pathlib.Path(directory).mkdir()\n",
    "\n",
    "    for current_experiment_index, current_experiment in experimental_design.items():\n",
    "\n",
    "        texts_path = pathlib.Path(current_experiment['data_filepath'])\n",
    "        if texts_path.exists():\n",
    "\n",
    "            with gzip.GzipFile(texts_path, 'r') as fp:\n",
    "                json_bytes = fp.read()\n",
    "                json_str = json_bytes.decode('utf-8')\n",
    "                texts = json.loads(json_str)\n",
    "\n",
    "            no_below_val = 2\n",
    "            no_above_proportion = 0.20\n",
    "\n",
    "            instance_string = f'exp_{current_experiment_index}'\n",
    "            print_status(f'Starting experiment {instance_string}', start_time)\n",
    "            id2word = gensim.corpora.Dictionary(texts)\n",
    "            id2word.filter_extremes(no_below = no_below_val, \n",
    "                                    no_above = no_above_proportion)\n",
    "            corpus = [id2word.doc2bow(text) for text in texts]\n",
    "\n",
    "            print_status(f'Defining filepaths', start_time)\n",
    "\n",
    "            vis_file_path =  pathlib.Path('vis_files', f'{instance_string}.html')\n",
    "\n",
    "            print_status(f'Running LDA', start_time)\n",
    "            lda_model = gensim.models.ldamulticore.LdaMulticore(corpus = corpus,\n",
    "                                                                workers = 3,\n",
    "                                                                id2word = id2word,\n",
    "                                                                num_topics = current_experiment['topics'],\n",
    "                                                                passes = current_experiment['passes'],\n",
    "                                                                alpha = current_experiment['alpha'],\n",
    "                                                                eta = current_experiment['eta'],\n",
    "                                                                decay = current_experiment['decay'],\n",
    "                                                                iterations = current_experiment['iterations'],\n",
    "                                                                random_state = 0)\n",
    "\n",
    "            print_status(f'Creating pyLDAvis model', start_time)\n",
    "            pyLDAvis_model = pyLDAvis.gensim.prepare(lda_model, \n",
    "                                                     corpus, \n",
    "                                                     id2word, \n",
    "                                                     sort_topics=False) \n",
    "\n",
    "            print_status(f'Creating pyLDAvis vizualization', start_time)\n",
    "            pyLDAvis.save_html(pyLDAvis_model,\n",
    "                               vis_file_path.__str__())\n",
    "\n",
    "            print_status(f'Computing coherence', start_time)\n",
    "            cm = gensim.models.coherencemodel.CoherenceModel(model = lda_model, corpus = corpus, texts = texts)\n",
    "            coherence_score = cm.get_coherence()\n",
    "            print_status(f'Coherence is {coherence_score}', start_time)\n",
    "            experimental_design[current_experiment_index]['coherence'] = coherence_score\n",
    "\n",
    "            pd.DataFrame().from_dict(experimental_design, orient = 'index').to_csv('experimental_results.csv')"
   ]
  },
  {
   "cell_type": "markdown",
   "metadata": {},
   "source": [
    "The following code block reads in a file containing the coherence results for the experiments."
   ]
  },
  {
   "cell_type": "code",
   "execution_count": 18,
   "metadata": {},
   "outputs": [
    {
     "data": {
      "text/html": [
       "<div>\n",
       "<style scoped>\n",
       "    .dataframe tbody tr th:only-of-type {\n",
       "        vertical-align: middle;\n",
       "    }\n",
       "\n",
       "    .dataframe tbody tr th {\n",
       "        vertical-align: top;\n",
       "    }\n",
       "\n",
       "    .dataframe thead th {\n",
       "        text-align: right;\n",
       "    }\n",
       "</style>\n",
       "<table border=\"1\" class=\"dataframe\">\n",
       "  <thead>\n",
       "    <tr style=\"text-align: right;\">\n",
       "      <th></th>\n",
       "      <th>ID</th>\n",
       "      <th>data_filepath</th>\n",
       "      <th>topics</th>\n",
       "      <th>alpha</th>\n",
       "      <th>eta</th>\n",
       "      <th>iterations</th>\n",
       "      <th>passes</th>\n",
       "      <th>decay</th>\n",
       "      <th>coherence</th>\n",
       "      <th>preprocessing</th>\n",
       "    </tr>\n",
       "  </thead>\n",
       "  <tbody>\n",
       "    <tr>\n",
       "      <th>0</th>\n",
       "      <td>exp_0</td>\n",
       "      <td>data\\mwe_lemmas_stems_nopunct_nostopw_bigram_t...</td>\n",
       "      <td>10</td>\n",
       "      <td>symmetric</td>\n",
       "      <td>auto</td>\n",
       "      <td>50</td>\n",
       "      <td>1</td>\n",
       "      <td>0.50</td>\n",
       "      <td>0.107135</td>\n",
       "      <td>Extensive</td>\n",
       "    </tr>\n",
       "    <tr>\n",
       "      <th>1</th>\n",
       "      <td>exp_1</td>\n",
       "      <td>data\\mwe_lemmas_stems_nopunct_nostopw_bigram_t...</td>\n",
       "      <td>10</td>\n",
       "      <td>symmetric</td>\n",
       "      <td>auto</td>\n",
       "      <td>50</td>\n",
       "      <td>1</td>\n",
       "      <td>0.99</td>\n",
       "      <td>0.076528</td>\n",
       "      <td>Extensive</td>\n",
       "    </tr>\n",
       "    <tr>\n",
       "      <th>2</th>\n",
       "      <td>exp_2</td>\n",
       "      <td>data\\mwe_lemmas_stems_nopunct_nostopw_bigram_t...</td>\n",
       "      <td>10</td>\n",
       "      <td>symmetric</td>\n",
       "      <td>auto</td>\n",
       "      <td>50</td>\n",
       "      <td>10</td>\n",
       "      <td>0.50</td>\n",
       "      <td>0.266149</td>\n",
       "      <td>Extensive</td>\n",
       "    </tr>\n",
       "    <tr>\n",
       "      <th>3</th>\n",
       "      <td>exp_3</td>\n",
       "      <td>data\\mwe_lemmas_stems_nopunct_nostopw_bigram_t...</td>\n",
       "      <td>10</td>\n",
       "      <td>symmetric</td>\n",
       "      <td>auto</td>\n",
       "      <td>50</td>\n",
       "      <td>10</td>\n",
       "      <td>0.99</td>\n",
       "      <td>0.120214</td>\n",
       "      <td>Extensive</td>\n",
       "    </tr>\n",
       "    <tr>\n",
       "      <th>4</th>\n",
       "      <td>exp_4</td>\n",
       "      <td>data\\mwe_lemmas_stems_nopunct_nostopw_bigram_t...</td>\n",
       "      <td>10</td>\n",
       "      <td>symmetric</td>\n",
       "      <td>auto</td>\n",
       "      <td>100</td>\n",
       "      <td>1</td>\n",
       "      <td>0.50</td>\n",
       "      <td>0.097826</td>\n",
       "      <td>Extensive</td>\n",
       "    </tr>\n",
       "  </tbody>\n",
       "</table>\n",
       "</div>"
      ],
      "text/plain": [
       "      ID                                      data_filepath  topics  \\\n",
       "0  exp_0  data\\mwe_lemmas_stems_nopunct_nostopw_bigram_t...      10   \n",
       "1  exp_1  data\\mwe_lemmas_stems_nopunct_nostopw_bigram_t...      10   \n",
       "2  exp_2  data\\mwe_lemmas_stems_nopunct_nostopw_bigram_t...      10   \n",
       "3  exp_3  data\\mwe_lemmas_stems_nopunct_nostopw_bigram_t...      10   \n",
       "4  exp_4  data\\mwe_lemmas_stems_nopunct_nostopw_bigram_t...      10   \n",
       "\n",
       "       alpha   eta  iterations  passes  decay  coherence preprocessing  \n",
       "0  symmetric  auto          50       1   0.50   0.107135     Extensive  \n",
       "1  symmetric  auto          50       1   0.99   0.076528     Extensive  \n",
       "2  symmetric  auto          50      10   0.50   0.266149     Extensive  \n",
       "3  symmetric  auto          50      10   0.99   0.120214     Extensive  \n",
       "4  symmetric  auto         100       1   0.50   0.097826     Extensive  "
      ]
     },
     "execution_count": 18,
     "metadata": {},
     "output_type": "execute_result"
    }
   ],
   "source": [
    "coherence_data = pd.read_csv('experimental_results.csv')\n",
    "coherence_data = coherence_data.rename(columns = {'Unnamed: 0': 'ID'})\n",
    "coherence_data['ID'] = 'exp_' + coherence_data['ID'].astype(str)\n",
    "filepath_map = {\n",
    "    'data\\\\mwe_lemmas_stems_nopunct_nostopw_bigram_trigram.json.gz': 'Extensive',\n",
    "    'data\\\\base.json.gz': 'Basic',\n",
    "}\n",
    "coherence_data['preprocessing'] = coherence_data['data_filepath'].map(filepath_map)\n",
    "coherence_data.head()"
   ]
  },
  {
   "cell_type": "markdown",
   "metadata": {},
   "source": [
    "We can use regression to identify the high-level effects of each of the experimental design parameters. The following code block defines a regression formula that we will use to conduct such a regression using the `statsmodels` library."
   ]
  },
  {
   "cell_type": "code",
   "execution_count": 19,
   "metadata": {},
   "outputs": [
    {
     "data": {
      "text/plain": [
       "'coherence ~ topics + alpha + eta + iterations + passes + decay + preprocessing'"
      ]
     },
     "execution_count": 19,
     "metadata": {},
     "output_type": "execute_result"
    }
   ],
   "source": [
    "parameter_columns = [\n",
    "    'topics', \n",
    "    'alpha', \n",
    "    'eta', \n",
    "    'iterations', \n",
    "    'passes',\n",
    "    'decay',  \n",
    "    'preprocessing',\n",
    "]\n",
    "\n",
    "metric_column = 'coherence'\n",
    "regression_formula = f'{metric_column} ~ '\n",
    "regression_formula += ' + '.join(parameter_columns)\n",
    "regression_formula"
   ]
  },
  {
   "cell_type": "markdown",
   "metadata": {},
   "source": [
    "The following code block runs the regression. The regression results suggest that using an *asymmetric* alpha, a higher number of topics, a higher number of passes, and a lower decay can improve the model coherence."
   ]
  },
  {
   "cell_type": "code",
   "execution_count": 20,
   "metadata": {},
   "outputs": [
    {
     "name": "stdout",
     "output_type": "stream",
     "text": [
      "                            OLS Regression Results                            \n",
      "==============================================================================\n",
      "Dep. Variable:              coherence   R-squared:                       0.871\n",
      "Model:                            OLS   Adj. R-squared:                  0.868\n",
      "Method:                 Least Squares   F-statistic:                     252.0\n",
      "Date:                Mon, 31 Aug 2020   Prob (F-statistic):          3.83e-159\n",
      "Time:                        11:22:50   Log-Likelihood:                 686.72\n",
      "No. Observations:                 384   AIC:                            -1351.\n",
      "Df Residuals:                     373   BIC:                            -1308.\n",
      "Df Model:                          10                                         \n",
      "Covariance Type:            nonrobust                                         \n",
      "==============================================================================================\n",
      "                                 coef    std err          t      P>|t|      [0.025      0.975]\n",
      "----------------------------------------------------------------------------------------------\n",
      "Intercept                      0.3451      0.012     29.704      0.000       0.322       0.368\n",
      "alpha[T.0.01]                  0.0008      0.006      0.140      0.888      -0.011       0.012\n",
      "alpha[T.asymmetric]            0.0164      0.006      2.770      0.006       0.005       0.028\n",
      "alpha[T.symmetric]             0.0031      0.006      0.526      0.599      -0.009       0.015\n",
      "eta[T.0.01]                    0.0011      0.005      0.221      0.825      -0.009       0.011\n",
      "eta[T.auto]                    0.0076      0.005      1.477      0.141      -0.003       0.018\n",
      "preprocessing[T.Extensive]    -0.1683      0.004    -40.155      0.000      -0.177      -0.160\n",
      "topics                         0.0031      0.000     14.784      0.000       0.003       0.004\n",
      "iterations                 -4.205e-05   8.38e-05     -0.502      0.616      -0.000       0.000\n",
      "passes                         0.0091      0.000     19.624      0.000       0.008       0.010\n",
      "decay                         -0.1458      0.009    -17.047      0.000      -0.163      -0.129\n",
      "==============================================================================\n",
      "Omnibus:                       56.596   Durbin-Watson:                   1.741\n",
      "Prob(Omnibus):                  0.000   Jarque-Bera (JB):               82.111\n",
      "Skew:                           0.963   Prob(JB):                     1.48e-18\n",
      "Kurtosis:                       4.194   Cond. No.                         516.\n",
      "==============================================================================\n",
      "\n",
      "Warnings:\n",
      "[1] Standard Errors assume that the covariance matrix of the errors is correctly specified.\n"
     ]
    }
   ],
   "source": [
    "mod = smf.ols(formula = regression_formula, data = coherence_data)\n",
    "res = mod.fit()\n",
    "print(res.summary())"
   ]
  },
  {
   "cell_type": "markdown",
   "metadata": {},
   "source": [
    "The following code block defines a plotting function that we can use to visually inspect the effects of two parameters simultaneously."
   ]
  },
  {
   "cell_type": "code",
   "execution_count": 21,
   "metadata": {},
   "outputs": [],
   "source": [
    "def plot_interaction(primary_parameter = 'topics',\n",
    "                     hue_parameter = 'alpha',\n",
    "                    ):\n",
    "\n",
    "    fig, ax = plt.subplots(1, 1, figsize = (6, 4))\n",
    "    sns.pointplot(\n",
    "        x = primary_parameter,\n",
    "        y = 'coherence',\n",
    "        hue = hue_parameter,\n",
    "        dodge = 0.2,\n",
    "        data = coherence_data,\n",
    "    )\n",
    "    ax.set_xlabel(primary_parameter.title(), fontsize = 12)\n",
    "    ax.set_ylabel('Coherence', fontsize = 12)\n",
    "\n",
    "    plt.show()"
   ]
  },
  {
   "cell_type": "markdown",
   "metadata": {},
   "source": [
    "The following code block uses the `plot_interaction` function to define an interactive plot."
   ]
  },
  {
   "cell_type": "code",
   "execution_count": 22,
   "metadata": {},
   "outputs": [
    {
     "data": {
      "application/vnd.jupyter.widget-view+json": {
       "model_id": "85d73dd64c29403f9b23a6d291eba1b5",
       "version_major": 2,
       "version_minor": 0
      },
      "text/plain": [
       "interactive(children=(Dropdown(description='primary_parameter', options=('topics', 'alpha', 'eta', 'iterations…"
      ]
     },
     "metadata": {},
     "output_type": "display_data"
    }
   ],
   "source": [
    "interact(plot_interaction, \n",
    "         primary_parameter = parameter_columns,\n",
    "         hue_parameter = parameter_columns\n",
    "        );"
   ]
  },
  {
   "cell_type": "markdown",
   "metadata": {},
   "source": [
    "The following code block retrieves all parameter settings for the details for the best model and saves them in a dictionary called `best_params`."
   ]
  },
  {
   "cell_type": "code",
   "execution_count": 23,
   "metadata": {},
   "outputs": [
    {
     "data": {
      "text/plain": [
       "{'ID': 'exp_126',\n",
       " 'data_filepath': 'data\\\\mwe_lemmas_stems_nopunct_nostopw_bigram_trigram.json.gz',\n",
       " 'topics': 30,\n",
       " 'alpha': 'asymmetric',\n",
       " 'eta': 'auto',\n",
       " 'iterations': 100,\n",
       " 'passes': 10,\n",
       " 'decay': 0.5,\n",
       " 'coherence': 0.4403135873542826,\n",
       " 'preprocessing': 'Extensive'}"
      ]
     },
     "execution_count": 23,
     "metadata": {},
     "output_type": "execute_result"
    }
   ],
   "source": [
    "best_coherence_index = coherence_data['coherence'].idxmax()\n",
    "best_params = coherence_data.loc[best_coherence_index, :].to_dict()\n",
    "best_params"
   ]
  },
  {
   "cell_type": "markdown",
   "metadata": {},
   "source": [
    "The following code block allows you to run the LDA process for the best parameter setting by setting the value of the `run_best_params` variable to `True`. The model is saved to a file named `best_model.model` in the `model_files` sub-folder."
   ]
  },
  {
   "cell_type": "code",
   "execution_count": 24,
   "metadata": {},
   "outputs": [],
   "source": [
    "run_best_params = False\n",
    "\n",
    "if run_best_params:\n",
    "    with gzip.GzipFile(best_params['data_filepath'], 'r') as fp:\n",
    "        json_bytes = fp.read()\n",
    "        json_str = json_bytes.decode('utf-8')\n",
    "        texts = json.loads(json_str)\n",
    "\n",
    "    no_below_val = 2\n",
    "    no_above_proportion = 0.20\n",
    "\n",
    "    id2word = gensim.corpora.Dictionary(texts)\n",
    "    id2word.filter_extremes(no_below = no_below_val, \n",
    "                            no_above = no_above_proportion)\n",
    "    corpus = [id2word.doc2bow(text) for text in texts]\n",
    "\n",
    "    lda_model = gensim.models.ldamulticore.LdaMulticore(corpus = corpus,\n",
    "                                                        workers = 3,\n",
    "                                                        id2word = id2word,\n",
    "                                                        num_topics = best_params['topics'],\n",
    "                                                        passes = best_params['passes'],\n",
    "                                                        alpha = best_params['alpha'],\n",
    "                                                        eta = best_params['eta'],\n",
    "                                                        decay = best_params['decay'],\n",
    "                                                        iterations = best_params['iterations'],\n",
    "                                                        random_state = 0)\n",
    "    \n",
    "    model_path = pathlib.Path('model_files', 'best_model.model')\n",
    "    lda_model.save(model_path.__str__())"
   ]
  },
  {
   "cell_type": "markdown",
   "metadata": {},
   "source": [
    "The following code block shows how we can load and use a saved model."
   ]
  },
  {
   "cell_type": "code",
   "execution_count": 25,
   "metadata": {},
   "outputs": [
    {
     "data": {
      "text/plain": [
       "[(5, 0.9010063), (9, 0.05316979)]"
      ]
     },
     "execution_count": 25,
     "metadata": {},
     "output_type": "execute_result"
    }
   ],
   "source": [
    "with gzip.GzipFile(best_params['data_filepath'], 'r') as fp:\n",
    "    json_bytes = fp.read()\n",
    "    json_str = json_bytes.decode('utf-8')\n",
    "    texts = json.loads(json_str)\n",
    "    \n",
    "no_below_val = 2\n",
    "no_above_proportion = 0.20\n",
    "\n",
    "id2word = gensim.corpora.Dictionary(texts)\n",
    "id2word.filter_extremes(no_below = no_below_val, \n",
    "                        no_above = no_above_proportion)\n",
    "corpus = [id2word.doc2bow(text) for text in texts]\n",
    "\n",
    "model_path = pathlib.Path('model_files', 'best_model.model')\n",
    "lda_model = gensim.models.LdaModel.load(model_path.__str__())\n",
    "\n",
    "lda_model.get_document_topics(corpus[300])"
   ]
  }
 ],
 "metadata": {
  "kernelspec": {
   "display_name": "Python 3",
   "language": "python",
   "name": "python3"
  },
  "language_info": {
   "codemirror_mode": {
    "name": "ipython",
    "version": 3
   },
   "file_extension": ".py",
   "mimetype": "text/x-python",
   "name": "python",
   "nbconvert_exporter": "python",
   "pygments_lexer": "ipython3",
   "version": "3.7.7"
  },
  "widgets": {
   "application/vnd.jupyter.widget-state+json": {
    "state": {
     "1002ee079f54450e9ba93c9a7b6e0141": {
      "model_module": "@jupyter-widgets/base",
      "model_module_version": "1.2.0",
      "model_name": "LayoutModel",
      "state": {}
     },
     "1ebde5a41dcc41bea9803506290e3c03": {
      "model_module": "@jupyter-widgets/output",
      "model_module_version": "1.0.0",
      "model_name": "OutputModel",
      "state": {
       "layout": "IPY_MODEL_9f589336787b4c4798b1620e074fd04d",
       "outputs": [
        {
         "data": {
          "image/png": "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\n",
          "text/plain": "<Figure size 432x288 with 1 Axes>"
         },
         "metadata": {},
         "output_type": "display_data"
        }
       ]
      }
     },
     "45b3c823b76b46f9ba9f5822975d9135": {
      "model_module": "@jupyter-widgets/controls",
      "model_module_version": "1.5.0",
      "model_name": "DescriptionStyleModel",
      "state": {
       "description_width": ""
      }
     },
     "470ec63689e5456dae7874946dff43d6": {
      "model_module": "@jupyter-widgets/base",
      "model_module_version": "1.2.0",
      "model_name": "LayoutModel",
      "state": {}
     },
     "6ae38dcc28db496aaa100ad475a08337": {
      "model_module": "@jupyter-widgets/controls",
      "model_module_version": "1.5.0",
      "model_name": "VBoxModel",
      "state": {
       "_dom_classes": [
        "widget-interact"
       ],
       "children": [
        "IPY_MODEL_ea353531855a45c78fef3ad803625336",
        "IPY_MODEL_e9580e8cd15e4baf8d98b3c56a0f55cf",
        "IPY_MODEL_71b5b651bf1f4e85bd0a535216e9a040"
       ],
       "layout": "IPY_MODEL_931c004351594a7cb0f7fff7810b146c"
      }
     },
     "71b5b651bf1f4e85bd0a535216e9a040": {
      "model_module": "@jupyter-widgets/output",
      "model_module_version": "1.0.0",
      "model_name": "OutputModel",
      "state": {
       "layout": "IPY_MODEL_470ec63689e5456dae7874946dff43d6",
       "outputs": [
        {
         "data": {
          "image/png": "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\n",
          "text/plain": "<Figure size 432x288 with 1 Axes>"
         },
         "metadata": {},
         "output_type": "display_data"
        }
       ]
      }
     },
     "85d73dd64c29403f9b23a6d291eba1b5": {
      "model_module": "@jupyter-widgets/controls",
      "model_module_version": "1.5.0",
      "model_name": "VBoxModel",
      "state": {
       "_dom_classes": [
        "widget-interact"
       ],
       "children": [
        "IPY_MODEL_f11cbb06b5ee4be8b38ec5bbc525161a",
        "IPY_MODEL_ebccc6c30d354b398cf9724075b52b4f",
        "IPY_MODEL_1ebde5a41dcc41bea9803506290e3c03"
       ],
       "layout": "IPY_MODEL_b45b60a746c04723be8c1efdc710446f"
      }
     },
     "931c004351594a7cb0f7fff7810b146c": {
      "model_module": "@jupyter-widgets/base",
      "model_module_version": "1.2.0",
      "model_name": "LayoutModel",
      "state": {}
     },
     "9f589336787b4c4798b1620e074fd04d": {
      "model_module": "@jupyter-widgets/base",
      "model_module_version": "1.2.0",
      "model_name": "LayoutModel",
      "state": {}
     },
     "b3821a78035d4a88ac087182be5c9fec": {
      "model_module": "@jupyter-widgets/controls",
      "model_module_version": "1.5.0",
      "model_name": "DescriptionStyleModel",
      "state": {
       "description_width": ""
      }
     },
     "b45b60a746c04723be8c1efdc710446f": {
      "model_module": "@jupyter-widgets/base",
      "model_module_version": "1.2.0",
      "model_name": "LayoutModel",
      "state": {}
     },
     "bc641cdeef344b9fa2c823c0289dff6e": {
      "model_module": "@jupyter-widgets/base",
      "model_module_version": "1.2.0",
      "model_name": "LayoutModel",
      "state": {}
     },
     "bebf76a7856b43ae97164b800161d8a9": {
      "model_module": "@jupyter-widgets/base",
      "model_module_version": "1.2.0",
      "model_name": "LayoutModel",
      "state": {}
     },
     "c07dda4555e049f18c905c3adc642d9a": {
      "model_module": "@jupyter-widgets/base",
      "model_module_version": "1.2.0",
      "model_name": "LayoutModel",
      "state": {}
     },
     "d3de719916394cfb847c3fc4c441f15d": {
      "model_module": "@jupyter-widgets/controls",
      "model_module_version": "1.5.0",
      "model_name": "DescriptionStyleModel",
      "state": {
       "description_width": ""
      }
     },
     "e818bd53838240eb8911bd99c90ecce7": {
      "model_module": "@jupyter-widgets/controls",
      "model_module_version": "1.5.0",
      "model_name": "DescriptionStyleModel",
      "state": {
       "description_width": ""
      }
     },
     "e9580e8cd15e4baf8d98b3c56a0f55cf": {
      "model_module": "@jupyter-widgets/controls",
      "model_module_version": "1.5.0",
      "model_name": "DropdownModel",
      "state": {
       "_options_labels": [
        "topics",
        "alpha",
        "eta",
        "iterations",
        "passes",
        "decay",
        "preprocessing"
       ],
       "description": "hue_parameter",
       "index": 1,
       "layout": "IPY_MODEL_bc641cdeef344b9fa2c823c0289dff6e",
       "style": "IPY_MODEL_d3de719916394cfb847c3fc4c441f15d"
      }
     },
     "ea353531855a45c78fef3ad803625336": {
      "model_module": "@jupyter-widgets/controls",
      "model_module_version": "1.5.0",
      "model_name": "DropdownModel",
      "state": {
       "_options_labels": [
        "topics",
        "alpha",
        "eta",
        "iterations",
        "passes",
        "decay",
        "preprocessing"
       ],
       "description": "primary_parameter",
       "index": 1,
       "layout": "IPY_MODEL_1002ee079f54450e9ba93c9a7b6e0141",
       "style": "IPY_MODEL_b3821a78035d4a88ac087182be5c9fec"
      }
     },
     "ebccc6c30d354b398cf9724075b52b4f": {
      "model_module": "@jupyter-widgets/controls",
      "model_module_version": "1.5.0",
      "model_name": "DropdownModel",
      "state": {
       "_options_labels": [
        "topics",
        "alpha",
        "eta",
        "iterations",
        "passes",
        "decay",
        "preprocessing"
       ],
       "description": "hue_parameter",
       "index": 1,
       "layout": "IPY_MODEL_c07dda4555e049f18c905c3adc642d9a",
       "style": "IPY_MODEL_e818bd53838240eb8911bd99c90ecce7"
      }
     },
     "f11cbb06b5ee4be8b38ec5bbc525161a": {
      "model_module": "@jupyter-widgets/controls",
      "model_module_version": "1.5.0",
      "model_name": "DropdownModel",
      "state": {
       "_options_labels": [
        "topics",
        "alpha",
        "eta",
        "iterations",
        "passes",
        "decay",
        "preprocessing"
       ],
       "description": "primary_parameter",
       "index": 0,
       "layout": "IPY_MODEL_bebf76a7856b43ae97164b800161d8a9",
       "style": "IPY_MODEL_45b3c823b76b46f9ba9f5822975d9135"
      }
     }
    },
    "version_major": 2,
    "version_minor": 0
   }
  }
 },
 "nbformat": 4,
 "nbformat_minor": 4
}
