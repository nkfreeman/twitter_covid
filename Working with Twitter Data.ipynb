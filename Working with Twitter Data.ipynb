{
 "cells": [
  {
   "cell_type": "markdown",
   "metadata": {},
   "source": [
    "Import libraries"
   ]
  },
  {
   "cell_type": "code",
   "execution_count": 1,
   "metadata": {},
   "outputs": [],
   "source": [
    "import gzip\n",
    "import itertools\n",
    "import json\n",
    "import pathlib\n",
    "import time\n",
    "\n",
    "import matplotlib.pyplot as plt\n",
    "import nltk\n",
    "import numpy as np\n",
    "import pandas as pd\n",
    "import seaborn as sns"
   ]
  },
  {
   "cell_type": "markdown",
   "metadata": {},
   "source": [
    "You will need to run the NLTK (natural language toolkit) `download` function to download additional items for using `nltk`."
   ]
  },
  {
   "cell_type": "code",
   "execution_count": 2,
   "metadata": {},
   "outputs": [],
   "source": [
    "run_nltk_downloader = False\n",
    "\n",
    "if run_nltk_downloader:\n",
    "    nltk.download()"
   ]
  },
  {
   "cell_type": "markdown",
   "metadata": {},
   "source": [
    "The data is stored in JSON (JavaScript Object Notation) format. The JSON file is compressed to save space. The following code block shows how to read the data."
   ]
  },
  {
   "cell_type": "code",
   "execution_count": 3,
   "metadata": {},
   "outputs": [
    {
     "name": "stdout",
     "output_type": "stream",
     "text": [
      "The data includes 434578 observations.\n"
     ]
    }
   ],
   "source": [
    "raw_data_filepath = pathlib.Path('relevant_data.json.gz')\n",
    "\n",
    "with gzip.GzipFile(raw_data_filepath, 'r') as fp:\n",
    "    json_bytes = fp.read()\n",
    "    json_str = json_bytes.decode('utf-8')\n",
    "    tweet_data = json.loads(json_str)\n",
    "    \n",
    "print(f'The data includes {len(tweet_data)} observations.')"
   ]
  },
  {
   "cell_type": "markdown",
   "metadata": {},
   "source": [
    "The data is stored as a list of lists. Each sublist has six items:\n",
    "1. the datetime for the tweet,\n",
    "2. the username associated with the tweet,\n",
    "3. the user associated with the tweet,\n",
    "4. the location associated with the tweet,\n",
    "5. the language associated with the tweet, and\n",
    "6. the tweet text.\n",
    "\n",
    "The following code block prints the first entry as an example."
   ]
  },
  {
   "cell_type": "code",
   "execution_count": 4,
   "metadata": {},
   "outputs": [
    {
     "data": {
      "text/plain": [
       "['Sat Mar 28 08:21:12 +0000 2020',\n",
       " 'DianeB67082104',\n",
       " 'Diane B',\n",
       " 'Yorkshire and The Humber',\n",
       " 'en',\n",
       " '@redviking_82 Yea we are fine staying home as much as we can Hubby has to go to work (keyworker food production) and we shop for his parents I stay in the car. His Mum likes to see me ❤️ Stay safe love xx']"
      ]
     },
     "execution_count": 4,
     "metadata": {},
     "output_type": "execute_result"
    }
   ],
   "source": [
    "tweet_data[0]"
   ]
  },
  {
   "cell_type": "markdown",
   "metadata": {},
   "source": [
    "The following code block:\n",
    "1. creates a Pandas `DataFrame` with the data (named `tweet_df`),\n",
    "2. converts the `Datetime` column to a datetime format,\n",
    "3. creates a `Date` column with just the date extracted from the `Datetime` column,\n",
    "4. creates a `Day_Name` column that specifies the day of the week that the tweet was posted.\n",
    "5. creates a `Weekend` column that is `True` if the tweet was posted on a weekend, and `False` otherwise."
   ]
  },
  {
   "cell_type": "code",
   "execution_count": 5,
   "metadata": {},
   "outputs": [],
   "source": [
    "column_names = [\n",
    "    'Datetime',\n",
    "    'Username',\n",
    "    'User',\n",
    "    'Location',\n",
    "    'Language',\n",
    "    'Text',\n",
    "]\n",
    "\n",
    "tweet_df = pd.DataFrame(tweet_data, \n",
    "                        columns = column_names)\n",
    "\n",
    "tweet_df['Datetime'] = pd.to_datetime(tweet_df['Datetime'], \n",
    "                                      format = '%a %b %d %H:%M:%S %z %Y')\n",
    "\n",
    "tweet_df['Date'] = tweet_df['Datetime'].dt.date\n",
    "\n",
    "tweet_df['Day_Name'] = tweet_df['Datetime'].dt.day_name()\n",
    "\n",
    "weekend_mask = tweet_df['Day_Name'].isin(['Saturday', 'Sunday'])\n",
    "tweet_df.loc[weekend_mask, 'Weekend'] = True\n",
    "tweet_df.loc[~weekend_mask, 'Weekend'] = False\n",
    "\n",
    "tweet_df['Hour'] = tweet_df['Datetime'].dt.hour"
   ]
  },
  {
   "cell_type": "code",
   "execution_count": 6,
   "metadata": {},
   "outputs": [
    {
     "data": {
      "text/html": [
       "<div>\n",
       "<style scoped>\n",
       "    .dataframe tbody tr th:only-of-type {\n",
       "        vertical-align: middle;\n",
       "    }\n",
       "\n",
       "    .dataframe tbody tr th {\n",
       "        vertical-align: top;\n",
       "    }\n",
       "\n",
       "    .dataframe thead th {\n",
       "        text-align: right;\n",
       "    }\n",
       "</style>\n",
       "<table border=\"1\" class=\"dataframe\">\n",
       "  <thead>\n",
       "    <tr style=\"text-align: right;\">\n",
       "      <th></th>\n",
       "      <th>Datetime</th>\n",
       "      <th>Username</th>\n",
       "      <th>User</th>\n",
       "      <th>Location</th>\n",
       "      <th>Language</th>\n",
       "      <th>Text</th>\n",
       "      <th>Date</th>\n",
       "      <th>Day_Name</th>\n",
       "      <th>Weekend</th>\n",
       "      <th>Hour</th>\n",
       "    </tr>\n",
       "  </thead>\n",
       "  <tbody>\n",
       "    <tr>\n",
       "      <th>0</th>\n",
       "      <td>2020-03-28 08:21:12+00:00</td>\n",
       "      <td>DianeB67082104</td>\n",
       "      <td>Diane B</td>\n",
       "      <td>Yorkshire and The Humber</td>\n",
       "      <td>en</td>\n",
       "      <td>@redviking_82 Yea we are fine staying home as ...</td>\n",
       "      <td>2020-03-28</td>\n",
       "      <td>Saturday</td>\n",
       "      <td>True</td>\n",
       "      <td>8</td>\n",
       "    </tr>\n",
       "    <tr>\n",
       "      <th>1</th>\n",
       "      <td>2020-03-28 09:07:14+00:00</td>\n",
       "      <td>BiotechPolicyUK</td>\n",
       "      <td>Michael M. Hopkins</td>\n",
       "      <td>Brighton, UK</td>\n",
       "      <td>en</td>\n",
       "      <td>This is a helpful analysis of NERVTAG delibera...</td>\n",
       "      <td>2020-03-28</td>\n",
       "      <td>Saturday</td>\n",
       "      <td>True</td>\n",
       "      <td>9</td>\n",
       "    </tr>\n",
       "    <tr>\n",
       "      <th>2</th>\n",
       "      <td>2020-03-28 00:14:05+00:00</td>\n",
       "      <td>MarketingEdgeM</td>\n",
       "      <td>Marketing Edge</td>\n",
       "      <td>Lagos, Nigeria</td>\n",
       "      <td>en</td>\n",
       "      <td>Kantar, the world’s leading data, insights and...</td>\n",
       "      <td>2020-03-28</td>\n",
       "      <td>Saturday</td>\n",
       "      <td>True</td>\n",
       "      <td>0</td>\n",
       "    </tr>\n",
       "    <tr>\n",
       "      <th>3</th>\n",
       "      <td>2020-03-28 05:36:36+00:00</td>\n",
       "      <td>Mrtroublelex</td>\n",
       "      <td>Raynomics</td>\n",
       "      <td>Warri, Nigeria</td>\n",
       "      <td>en</td>\n",
       "      <td>@iRuntown__ I been like you well well, but all...</td>\n",
       "      <td>2020-03-28</td>\n",
       "      <td>Saturday</td>\n",
       "      <td>True</td>\n",
       "      <td>5</td>\n",
       "    </tr>\n",
       "    <tr>\n",
       "      <th>4</th>\n",
       "      <td>2020-03-28 11:10:05+00:00</td>\n",
       "      <td>whitedragoncom</td>\n",
       "      <td>Kin Dle</td>\n",
       "      <td>None</td>\n",
       "      <td>en</td>\n",
       "      <td>Jesus Christ Christian Bible Prophecy News - F...</td>\n",
       "      <td>2020-03-28</td>\n",
       "      <td>Saturday</td>\n",
       "      <td>True</td>\n",
       "      <td>11</td>\n",
       "    </tr>\n",
       "  </tbody>\n",
       "</table>\n",
       "</div>"
      ],
      "text/plain": [
       "                   Datetime         Username                User  \\\n",
       "0 2020-03-28 08:21:12+00:00   DianeB67082104             Diane B   \n",
       "1 2020-03-28 09:07:14+00:00  BiotechPolicyUK  Michael M. Hopkins   \n",
       "2 2020-03-28 00:14:05+00:00   MarketingEdgeM      Marketing Edge   \n",
       "3 2020-03-28 05:36:36+00:00     Mrtroublelex           Raynomics   \n",
       "4 2020-03-28 11:10:05+00:00   whitedragoncom             Kin Dle   \n",
       "\n",
       "                   Location Language  \\\n",
       "0  Yorkshire and The Humber       en   \n",
       "1              Brighton, UK       en   \n",
       "2            Lagos, Nigeria       en   \n",
       "3            Warri, Nigeria       en   \n",
       "4                      None       en   \n",
       "\n",
       "                                                Text        Date  Day_Name  \\\n",
       "0  @redviking_82 Yea we are fine staying home as ...  2020-03-28  Saturday   \n",
       "1  This is a helpful analysis of NERVTAG delibera...  2020-03-28  Saturday   \n",
       "2  Kantar, the world’s leading data, insights and...  2020-03-28  Saturday   \n",
       "3  @iRuntown__ I been like you well well, but all...  2020-03-28  Saturday   \n",
       "4  Jesus Christ Christian Bible Prophecy News - F...  2020-03-28  Saturday   \n",
       "\n",
       "  Weekend  Hour  \n",
       "0    True     8  \n",
       "1    True     9  \n",
       "2    True     0  \n",
       "3    True     5  \n",
       "4    True    11  "
      ]
     },
     "execution_count": 6,
     "metadata": {},
     "output_type": "execute_result"
    }
   ],
   "source": [
    "tweet_df.head()"
   ]
  },
  {
   "cell_type": "markdown",
   "metadata": {},
   "source": [
    "The following code block shows the number of missing values in the data (expressed as a proportion of the total number of observations)."
   ]
  },
  {
   "cell_type": "code",
   "execution_count": 7,
   "metadata": {},
   "outputs": [
    {
     "data": {
      "text/plain": [
       "Datetime    0.000000\n",
       "Username    0.000000\n",
       "User        0.000000\n",
       "Location    0.293694\n",
       "Language    0.000000\n",
       "Text        0.000000\n",
       "Date        0.000000\n",
       "Day_Name    0.000000\n",
       "Weekend     0.000000\n",
       "Hour        0.000000\n",
       "dtype: float64"
      ]
     },
     "execution_count": 7,
     "metadata": {},
     "output_type": "execute_result"
    }
   ],
   "source": [
    "tweet_df.isna().sum()/len(tweet_df)"
   ]
  },
  {
   "cell_type": "markdown",
   "metadata": {},
   "source": [
    "The following code block plots the number of tweets collected each day (recall this is just a sample)."
   ]
  },
  {
   "cell_type": "code",
   "execution_count": 8,
   "metadata": {},
   "outputs": [
    {
     "data": {
      "image/png": "[encoded data removed]",
      "text/plain": [
       "<Figure size 1080x432 with 1 Axes>"
      ]
     },
     "metadata": {
      "needs_background": "light"
     },
     "output_type": "display_data"
    }
   ],
   "source": [
    "fig, ax = plt.subplots(1, 1, figsize = (15, 6))\n",
    "\n",
    "temp = tweet_df.groupby(['Date'])['Text'].count().reset_index()\n",
    "temp = temp.rename(columns = {'Text': '# Tweets'})\n",
    "\n",
    "sns.lineplot(\n",
    "    x = 'Date', \n",
    "    y = '# Tweets',\n",
    "    data = temp,\n",
    ")\n",
    "\n",
    "plt.show()"
   ]
  },
  {
   "cell_type": "markdown",
   "metadata": {},
   "source": [
    "The following code block generates a plot that shows how the average number of tweets posted a day varies by day of the week."
   ]
  },
  {
   "cell_type": "code",
   "execution_count": 9,
   "metadata": {},
   "outputs": [
    {
     "data": {
      "image/png": "[encoded data removed]",
      "text/plain": [
       "<Figure size 864x432 with 1 Axes>"
      ]
     },
     "metadata": {
      "needs_background": "light"
     },
     "output_type": "display_data"
    }
   ],
   "source": [
    "fig, ax = plt.subplots(1, 1, figsize = (12, 6))\n",
    "\n",
    "temp = tweet_df.groupby(['Date', 'Day_Name'])['Text'].count().reset_index()\n",
    "temp = temp.groupby(['Day_Name'])['Text'].mean().reset_index()\n",
    "temp = temp.rename(columns = {'Text': '# Tweets (Avg)'})\n",
    "\n",
    "sns.barplot(\n",
    "    x = 'Day_Name', \n",
    "    y = '# Tweets (Avg)',\n",
    "    data = temp,\n",
    "    edgecolor = 'k',\n",
    "    order = ['Monday', \n",
    "             'Tuesday',\n",
    "             'Wednesday',\n",
    "             'Thursday',\n",
    "             'Friday',\n",
    "             'Saturday',\n",
    "             'Sunday',\n",
    "            ]\n",
    ")\n",
    "\n",
    "plt.show()"
   ]
  },
  {
   "cell_type": "markdown",
   "metadata": {},
   "source": [
    "The following code block generates a plot that shows how the average number of tweets posted a day varies by hour of day."
   ]
  },
  {
   "cell_type": "code",
   "execution_count": 10,
   "metadata": {},
   "outputs": [
    {
     "data": {
      "image/png": "[encoded data removed]",
      "text/plain": [
       "<Figure size 864x432 with 1 Axes>"
      ]
     },
     "metadata": {
      "needs_background": "light"
     },
     "output_type": "display_data"
    }
   ],
   "source": [
    "fig, ax = plt.subplots(1, 1, figsize = (12, 6))\n",
    "\n",
    "temp = tweet_df.groupby(['Date', 'Hour'])['Text'].count().reset_index()\n",
    "temp = temp.groupby(['Hour'])['Text'].mean().reset_index()\n",
    "temp = temp.rename(columns = {'Text': '# Tweets (Avg)'})\n",
    "\n",
    "sns.barplot(\n",
    "    x = 'Hour', \n",
    "    y = '# Tweets (Avg)',\n",
    "    data = temp,\n",
    "    edgecolor = 'k',\n",
    ")\n",
    "\n",
    "plt.show()"
   ]
  },
  {
   "cell_type": "markdown",
   "metadata": {},
   "source": [
    "The following code block shows how we can use `nltk` to get a frequency distribution for the data."
   ]
  },
  {
   "cell_type": "code",
   "execution_count": 11,
   "metadata": {},
   "outputs": [
    {
     "name": "stdout",
     "output_type": "stream",
     "text": [
      "Tokenization and frequency distribution construction took 79.95 seconds.\n"
     ]
    }
   ],
   "source": [
    "start_time = time.time()\n",
    "\n",
    "tweets = tweet_df['Text'].str.lower().tolist()\n",
    "tknzr = nltk.tokenize.TweetTokenizer()\n",
    "tweet_tokens = [tknzr.tokenize(tweet) for tweet in tweets]\n",
    "all_tokens = list(itertools.chain.from_iterable(tweet_tokens))\n",
    "freq_dist = nltk.FreqDist(all_tokens)\n",
    "\n",
    "end_time = time.time()\n",
    "print(f'Tokenization and frequency distribution construction took {np.round(end_time - start_time, 2)} seconds.')"
   ]
  },
  {
   "cell_type": "markdown",
   "metadata": {},
   "source": [
    "The following code block shows the top 30 words."
   ]
  },
  {
   "cell_type": "code",
   "execution_count": 12,
   "metadata": {},
   "outputs": [
    {
     "data": {
      "text/plain": [
       "[('.', 648207),\n",
       " ('the', 534050),\n",
       " (',', 459149),\n",
       " ('to', 424380),\n",
       " ('and', 369405),\n",
       " ('of', 279787),\n",
       " ('a', 256931),\n",
       " ('covid', 256764),\n",
       " ('in', 221049),\n",
       " ('is', 190216),\n",
       " ('-', 187045),\n",
       " ('i', 179125),\n",
       " ('for', 177364),\n",
       " ('19', 150101),\n",
       " ('you', 149142),\n",
       " ('’', 147953),\n",
       " ('!', 124637),\n",
       " ('it', 123049),\n",
       " ('that', 121927),\n",
       " ('are', 119184),\n",
       " ('food', 109715),\n",
       " ('?', 109169),\n",
       " ('this', 108182),\n",
       " ('on', 106804),\n",
       " ('with', 96148),\n",
       " ('have', 93216),\n",
       " ('we', 88638),\n",
       " ('be', 80667),\n",
       " ('not', 80033),\n",
       " (':', 76900)]"
      ]
     },
     "execution_count": 12,
     "metadata": {},
     "output_type": "execute_result"
    }
   ],
   "source": [
    "freq_dist.most_common(30)"
   ]
  }
 ],
 "metadata": {
  "kernelspec": {
   "display_name": "Python 3",
   "language": "python",
   "name": "python3"
  },
  "language_info": {
   "codemirror_mode": {
    "name": "ipython",
    "version": 3
   },
   "file_extension": ".py",
   "mimetype": "text/x-python",
   "name": "python",
   "nbconvert_exporter": "python",
   "pygments_lexer": "ipython3",
   "version": "3.7.7"
  }
 },
 "nbformat": 4,
 "nbformat_minor": 4
}
